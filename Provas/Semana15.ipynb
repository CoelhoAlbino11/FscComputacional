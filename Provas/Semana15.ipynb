{
 "cells": [
  {
   "cell_type": "markdown",
   "metadata": {},
   "source": [
    "# Avaliação - semana 15\n",
    "## FSC5705 - Física Computacional\n",
    "## 13/11/2023\n",
    "\n",
    "### Atenção\n",
    "- **Não esqueça de reiniciar o kernel e rodar todas as células para testar o notebook antes de enviar.**"
   ]
  },
  {
   "cell_type": "markdown",
   "metadata": {},
   "source": [
    "## Gás ideal quântico\n",
    "\n",
    "Vamos utilizar o método de Monte Carlo com Cadeias de Markov (MCMC) para simular um gás composto de partículas quânticas dentro de uma caixa."
   ]
  },
  {
   "cell_type": "markdown",
   "metadata": {},
   "source": [
    "### Partícula dentro de uma caixa\n",
    "\n",
    "Uma partícula ou um átomo de um gás dentro de uma caixa pode ser descrita quanticamente como uma onda estacionária. Assim como ondas numa corda de violão, existem várias harmônicas possíveis, com frequências múltiplas inteiras da frequência fundamental.  "
   ]
  },
  {
   "cell_type": "markdown",
   "metadata": {},
   "source": [
    "![Potencial de caixa mostrando ondas senoidais com n=1,2,3 e 4.](data:image/png;base64,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\n",
    ")"
   ]
  },
  {
   "cell_type": "markdown",
   "metadata": {},
   "source": [
    "CC BY-SA 3.0 [Papa November](https://pt.wikipedia.org/wiki/Part%C3%ADcula_em_uma_caixa#/media/Ficheiro:Particle_in_a_box_wavefunctions.svg)"
   ]
  },
  {
   "cell_type": "markdown",
   "metadata": {},
   "source": [
    "O estado da partícula pode ser descrito port três números quânticos, que ditam a harmônica da oscilação em cada dimensão da caixa, que são $n_x, n_y, n_z = 1, 2, 3, \\ldots, \\infty$. Se temos uma caixa cúbica de lado $L$, resolvendo a equação de Schrödinger, pode-se mostrar que a energia de uma partícula de massa $m$ é\n",
    "\n",
    "\\begin{align}\n",
    "E(n_x, n_y, n_z) = \\frac{\\pi^2\\hbar^2}{2 m L^2} (n_x^2 + n_y^2 + n_z^2).\n",
    "\\end{align}"
   ]
  },
  {
   "cell_type": "markdown",
   "metadata": {},
   "source": [
    "### Muitas partículas não-interagentes\n",
    "\n",
    "Um gás ideal contém $N$ partículas destas, que não interagem entre si, de tal forma que a energia total do gás é simplesmente\n",
    "\n",
    "\\begin{align}\n",
    "E = \\sum_{i=1}^N E(n_{x,i}, n_{y,i}, n_{z,i}),\n",
    "\\end{align}"
   ]
  },
  {
   "cell_type": "markdown",
   "metadata": {},
   "source": [
    "onde $n_{x,i}, n_{y,i}$ e  $n_{z,i}$ são os números quânticos da partícula $i$. Cada combinação possível de números quânticos de todas as $N$ partículas é um estado $\\Theta_j$ do sistema. Da mecânica estatística, sabemos que a probabilidade do sistema, a uma temperatura $T$, estar no estado $\\Theta_j$ com energia $E_j$ é dada pela fórmula de Boltzmann\n",
    "\n",
    "\\begin{align}\n",
    "P(E_j) &= \\frac{\\mathrm{e}^{-\\beta E_j}}{Z} \\\\\n",
    "Z &= \\sum_j \\mathrm{e}^{-\\beta E_j},\n",
    "\\end{align}"
   ]
  },
  {
   "cell_type": "markdown",
   "metadata": {},
   "source": [
    "onde $\\beta = \\frac{1}{k_\\mathrm{B} T}$ e $k_\\mathrm{B}$ é a constante de Boltzmann, e o somatório de $Z$ é sobre todos os infinitos estados possíveis. Note que, diferente da formulação integral que vimos anteriormente, aqui os estados possíveis do sistema são discretos, por isso o somatório."
   ]
  },
  {
   "cell_type": "markdown",
   "metadata": {},
   "source": [
    "### Simulação com MCMC\n",
    "Se temos interesse em conhecer, por exemplo, o valor esperado da energia, precisamos calcular\n",
    "\n",
    "\\begin{align}\n",
    "\\langle E \\rangle = \\sum_j E_j\\,P(E_j).\n",
    "\\end{align}\n"
   ]
  },
  {
   "cell_type": "markdown",
   "metadata": {},
   "source": [
    "Esse somatório é intratável, temos infinitos termos. Porém, uma pequeníssima fração dos estados possíveis contribui com a maioria do valor do somatório. O procedimento que precisamos adotar é o mesmo do problema visto na semana passada: trocar um somatório intratável por uma \"amostragem por importância\", quer dizer, aplicar o método *importance sampling*."
   ]
  },
  {
   "cell_type": "markdown",
   "metadata": {},
   "source": [
    "Compare a probabilidade acima com a que estudamos no ajuste de modelo. Temos uma forma equivalente, mas aqui $\\beta E_j$ faz o papel de $\\frac 1 2 \\chi^2_j$. Todo o desenvolvimento que fizemos então pode ser usado neste probema, fazendo apenas esta substituição."
   ]
  },
  {
   "cell_type": "markdown",
   "metadata": {},
   "source": [
    "#### Algoritmo Metropolis–Hastings\n",
    "\n",
    "Seguindo o algoritmo de Metropolis–Hastings, com uma função proposta adequada, podemos conseguir uma matriz $T_{jk}$ que nos dá a probabilidade de transição do estado $j$, de energia $E_j$, até o estado $k$, de energia $E_k$, obedecendo o balanço detalhado. Sorteamos um salto segundo a função proposta, que é aceito segundo a probabilidade de aceitação\n",
    "\n",
    "\\begin{align}\n",
    "P_a &= \\frac{q(\\Theta_j, \\Theta_k)}{q(\\Theta_k, \\Theta_j)}\\ \\frac{P(\\Theta_k)}{P(\\Theta_j)} \\exp \\left[-\\beta (E_k - E_j)\\right].\n",
    "\\end{align}"
   ]
  },
  {
   "cell_type": "markdown",
   "metadata": {},
   "source": [
    "Repare que números quânticos menores que 1 são impossíveis, se um salto desses for proposto, $P(\\Theta_k) = 0 \\implies P_a = 0$. Admitimos que os estados $\\Theta_j$ permitidos são todos igualmente prováveis, logo\n",
    "\n",
    "$$\n",
    "\\frac{P(\\Theta_k)}{P(\\Theta_j)} = 1.\n",
    "$$"
   ]
  },
  {
   "cell_type": "markdown",
   "metadata": {},
   "source": [
    "#### Função proposta\n",
    "\n",
    "Queremos fazer uma simulação de Monte Carlo para calcular o valor esperado da energia interna do gás. Primeiro, precisamos definir a nossa função proposta, que nos dá, a partir de um estado $j$, um estado candidato $k$ para tentarmos fazer a transição. Neste caso, vamos admitir que os saltos possíveis são tais que uma única partícula muda para um estado vizinho no qual somente um dos números quânticos $n_x$, $n_y$ ou $n_z$ difere por $+1$ ou $-1$. Em outras palavras escolhemos uma partícula aleatória, desta escolhemos aleatoriamente um dos três números quânticos, e por fim uma mudança aleatória do tipo \"lançamento de moeda\" de $+1$ ou $-1$."
   ]
  },
  {
   "cell_type": "markdown",
   "metadata": {},
   "source": [
    "É fácil se convencer de que a função proposta é simétrica, quer dizer, $q(\\Theta_j, \\Theta_k) = q(\\Theta_k, \\Theta_j)$. Neste caso, a probabilidade de aceitação é\n",
    "\n",
    "\\begin{align}\n",
    "P_a &= \\exp \\left[-\\beta (E_k - E_j)\\right].\n",
    "\\end{align}"
   ]
  },
  {
   "cell_type": "markdown",
   "metadata": {},
   "source": [
    "Ou seja, transições para estados de energia menor são sempre aceitos, enquanto transições para estados de energia maior são aceitos com probabilidade $\\exp\\left[-\\beta (E_k - E_j)\\right]$. Vamos explorar o fato de que a nossa função proposta muda muito pouco o estado do sistema. Como a probabilidade de aceitação está definida em termos da diferença da energia, é mais interessante trabalhar com $\\Delta E_{jk} = E_k - E_j$. Desse modo, também evitamos ter que calcular a soma das energias de todas as partículas a cada passo."
   ]
  },
  {
   "cell_type": "markdown",
   "metadata": {},
   "source": [
    "Como num salto todas as partículas ficam com a mesma energia, exceto a que escolhemos para o salto, todos os termos se cancelam, exceto o referente à particula que escolhemos. Assim, para um salto que modifica $n_x$ por $\\delta n = \\pm 1$,\n",
    "\n",
    "\\begin{align}\n",
    "\\Delta E_{jk} &= \\frac{\\pi^2\\hbar^2}{2 m L^2} \\left[(n_x + \\delta n)^2 + n_y^2 + n_z^2 \\right]\n",
    "- \\frac{\\pi^2\\hbar^2}{2 m L^2} (n_x^2 + n_y^2 + n_z^2) \\\\\n",
    "&= \\frac{\\pi^2\\hbar^2}{2 m L^2}\\left[(n_x + \\delta n)^2 - n_x^2\\right] \\\\\n",
    "&= \\frac{\\pi^2\\hbar^2}{2 m L^2}\\left(n_x^2 + 2 \\delta n\\,n_x + (\\delta n)^2 - n_x^2\\right) \\\\\n",
    "&= \\frac{\\pi^2\\hbar^2}{2 m L^2}\\left(2\\delta n\\,n_x + 1\\right).\n",
    "\\end{align}"
   ]
  },
  {
   "cell_type": "markdown",
   "metadata": {},
   "source": [
    "Por simetria, o mesmo acontece para um salto em $n_y$ ou em $n_z$. A probabilidade de aceitação fica\n",
    "\n",
    "\\begin{align}\n",
    "P_a = \\left\\{ \\\n",
    "\\begin{array}{ll}\n",
    "\\mathrm{e}^{-\\beta \\Delta E_{jk}},\\qquad &\\mathrm{se}\\ \\Delta E_{jk} > 0 \\\\\n",
    "1, &\\mathrm{se}\\ \\Delta E_{jk} \\leq 0.\n",
    "\\end{array}\n",
    "\\right.\n",
    "\\end{align}"
   ]
  },
  {
   "cell_type": "markdown",
   "metadata": {},
   "source": [
    "Se o salto é aceito, atualizamos a energia atual tal que $E_k = E_j + \\Delta E_{jk}$. Por outro lado, se o passo não é aceito, o sistema segue no mesmo estado, e $E_k = E_j$. É interessante notar que se $\\delta n < 0$, a energia diminiu, e o salto é imediatamente aceito. Podemos usar isto para simplificar os testes de aceitação do salto, como fizemos no problema anterior."
   ]
  },
  {
   "cell_type": "markdown",
   "metadata": {},
   "source": [
    "### Programando a simulação\n",
    "\n",
    "Nós precisamos conhecer o estado de cada partícula para poder calcular a diferença de energia. Diferente do que fizemos no ajuste linear, não vamos guardar o estado de todas as partículas a cada passo de tempo. Isso não seria prático pois restringiria o número de partículas que podemos simular dadas as limitações de memória dos computadores. Assim, precisamos calcular as quantidades de interesse a cada passo. Neste exemplo, queremos apenas a energia total do sistema, mas poderíamos calcular qualquer função dos números quânticos das partículas, como capacidade térmica, entropia, pressão, etc."
   ]
  },
  {
   "cell_type": "markdown",
   "metadata": {},
   "source": [
    "Vamos então definir alguns valores. Por simplicidade, considere que $k_\\mathrm{B}T = 10$, $m = 1$, $\\hbar = 1$, e $L=1$. Vamos simular $N=1000$ partículas, e vamos admitir que no estado inicial do sistema todas as partículas estão no estado fundamental, $n_x=n_y=n_z=1$."
   ]
  },
  {
   "cell_type": "markdown",
   "metadata": {},
   "source": [
    "Os números quânticos de todas partícula serão representados por uma matriz, onde cada linha representa uma partícula, com 3 colunas para $n_x$, $n_y$ e $n_z$. Assim, armazenaremos o estado do sistema em um array bidimensional de $N \\times 3$. Os números $n_x$, $n_y$ e $n_z$ da partícula $i$ devem ser acessados como `n[i, 0]`, `n[i, 1]` e `n[i, 2]` respectivamente."
   ]
  },
  {
   "cell_type": "code",
   "execution_count": 103,
   "metadata": {},
   "outputs": [],
   "source": [
    "import matplotlib.pyplot as plt\n",
    "plt.style.use('ggplot')\n",
    "plt.rcParams['font.family'] = 'serif'\n",
    "plt.rcParams['mathtext.fontset'] = 'stix'"
   ]
  },
  {
   "cell_type": "code",
   "execution_count": 104,
   "metadata": {},
   "outputs": [],
   "source": [
    "import numpy as np\n",
    "\n",
    "kBT = 10.0\n",
    "beta = 1.0 / kBT\n",
    "m = 1.0\n",
    "hbar = 1.0\n",
    "L = 1.0\n",
    "N = 1000\n",
    "# Todas as partículas iniciam com nx = ny = nz = 1\n",
    "n = np.ones((N, 3), dtype='int32')"
   ]
  },
  {
   "cell_type": "markdown",
   "metadata": {},
   "source": [
    "Vamos simular o sistema por 250 mil passos, e guardar todos os valores de $E_j$."
   ]
  },
  {
   "cell_type": "code",
   "execution_count": 105,
   "metadata": {},
   "outputs": [],
   "source": [
    "M = 500_000\n",
    "E = np.zeros(M)"
   ]
  },
  {
   "cell_type": "markdown",
   "metadata": {},
   "source": [
    "#### Item 1\n",
    "Calcule a energia inicial do sistema, e guarde na primeira posição do array de energias."
   ]
  },
  {
   "cell_type": "code",
   "execution_count": 106,
   "metadata": {},
   "outputs": [
    {
     "name": "stdout",
     "output_type": "stream",
     "text": [
      "E0 = 14804.406601634037\n"
     ]
    }
   ],
   "source": [
    "def E0(N):\n",
    "    return 3*N*((np.pi**2 * hbar**2) / (2 * m * L**2))\n",
    "\n",
    "print(f'E0 = {E0(N)}')"
   ]
  },
  {
   "cell_type": "markdown",
   "metadata": {},
   "source": [
    "#### Item 2\n",
    "\n",
    "Faça a simulação, que consiste nos seguintes passos a cada iteração:\n",
    "\n",
    "- Realize a função proposta:\n",
    "    - Escolha uma partícula aleatória.\n",
    "    - Escolha um número quântico aleatório.\n",
    "    - Escolha uma direção aleatória de salto.\n",
    "- Calcule a variação de energia total.\n",
    "- Decida se o salto é aceito através da matriz de transição.\n",
    "- Guarde o valor da energia total atual no array.\n",
    "\n",
    "**É importante notar que os números quânticos devem ser maiores do que zero, logo devemos rejeitar o salto se isto for acontecer.**"
   ]
  },
  {
   "cell_type": "code",
   "execution_count": 107,
   "metadata": {},
   "outputs": [],
   "source": [
    "def f_proposta(n):\n",
    "    \n",
    "    particula = np.random.randint(N)   \n",
    "    num_quantico = np.random.randint(3)   \n",
    "    delta = 0\n",
    "\n",
    "    r = np.random.rand()  \n",
    "\n",
    "    if r > 0.5:\n",
    "        delta = 1\n",
    "\n",
    "    else:\n",
    "        delta = -1\n",
    "        \n",
    "    return particula, num_quantico, delta"
   ]
  },
  {
   "cell_type": "code",
   "execution_count": 108,
   "metadata": {},
   "outputs": [],
   "source": [
    "def calc_variaçãoEnergia(n):\n",
    "    \n",
    "    particula_aleatória = f_proposta(n)[0]   \n",
    "    numero_quantico = f_proposta(n)[1]   \n",
    "    delta = f_proposta(n)[2]   \n",
    "    nn = n[particula_aleatória,numero_quantico]\n",
    "\n",
    "    deltaE = ((np.pi**2 * hbar**2) / (2 * m * L**2)) * ((2 * delta * nn) + 1)\n",
    "\n",
    "    return deltaE, particula_aleatória, numero_quantico, nn, delta"
   ]
  },
  {
   "cell_type": "code",
   "execution_count": 109,
   "metadata": {},
   "outputs": [],
   "source": [
    "E[0] = E0(N)\n",
    " \n",
    "for j in range(1,M):\n",
    "\n",
    "    CONJUNTO = list(calc_variaçãoEnergia(n))\n",
    "    deltaE = CONJUNTO[0]\n",
    "    particula_aleatoria =CONJUNTO[1]\n",
    "    numero_quantico = CONJUNTO[2]\n",
    "    n_atual = CONJUNTO[3]\n",
    "    delta1 = CONJUNTO[4]\n",
    "    \n",
    "    if deltaE < 0:\n",
    "    \n",
    "        if n_atual > 1:    \n",
    "            E[j] = E[j-1] + deltaE \n",
    "            n[particula_aleatoria,numero_quantico] += delta1\n",
    "            \n",
    "        else:\n",
    "            E[j] = E[j-1] \n",
    "            n[particula_aleatoria,numero_quantico] = n[particula_aleatoria,numero_quantico]\n",
    "    \n",
    "    else:\n",
    "        \n",
    "        if n_atual > 0 :\n",
    "            \n",
    "            Pa = np.exp(-beta * deltaE)\n",
    "            r = np.random.rand()\n",
    "            \n",
    "            if r < Pa:\n",
    "        \n",
    "                E[j] = E[j-1] + deltaE \n",
    "                n[particula_aleatoria,numero_quantico] += delta1\n",
    "                    \n",
    "            else:\n",
    "                E[j] = E[j-1] \n",
    "                n[particula_aleatoria,numero_quantico] = n[particula_aleatoria,numero_quantico]\n",
    "                \n",
    "        else:\n",
    "            E[j] = E[j-1] \n",
    "            n[particula_aleatoria,numero_quantico] = n[particula_aleatoria,numero_quantico]"
   ]
  },
  {
   "cell_type": "markdown",
   "metadata": {},
   "source": [
    "#### Item 3\n",
    "\n",
    "Calcule o valor esperado da energia do sistema."
   ]
  },
  {
   "cell_type": "code",
   "execution_count": 110,
   "metadata": {},
   "outputs": [
    {
     "name": "stdout",
     "output_type": "stream",
     "text": [
      "O valor da energia esperada é: 24691.874\n"
     ]
    }
   ],
   "source": [
    "comp = len(E)\n",
    "E_esp = np.sum(E)/comp\n",
    "print(f\"O valor da energia esperada é: {E_esp:.3f}\")"
   ]
  },
  {
   "cell_type": "markdown",
   "metadata": {},
   "source": [
    "#### Item 4\n",
    "\n",
    "Vamos agora analisar melhor os resultados. Primeiro, vamos ver como a cadeia evolui. Faça o gráfico da energia total a cada passo. Desenhe também uma linha tracejada onde fica o valor esperado da energia."
   ]
  },
  {
   "cell_type": "code",
   "execution_count": 111,
   "metadata": {},
   "outputs": [
    {
     "data": {
      "text/plain": [
       "<matplotlib.legend.Legend at 0x2f9354bfd00>"
      ]
     },
     "execution_count": 111,
     "metadata": {},
     "output_type": "execute_result"
    },
    {
     "data": {
      "image/png": "[encoded data removed]",
      "text/plain": [
       "<Figure size 640x480 with 1 Axes>"
      ]
     },
     "metadata": {},
     "output_type": "display_data"
    }
   ],
   "source": [
    "passos = np.arange(1,500_001,1)\n",
    "\n",
    "fig, ax = plt.subplots(1,1)\n",
    "\n",
    "ax.plot(passos,E, color = \"darkblue\")\n",
    "ax.set_xlabel(r\"$j$\")\n",
    "ax.set_ylabel(r\"$E_{j}$\")\n",
    "ax.axhline(E_esp,0, ls = \"--\", color = \"black\", label = f\"valor esperado: $E = {E_esp:.0f}$\")\n",
    "ax.legend()"
   ]
  },
  {
   "cell_type": "markdown",
   "metadata": {},
   "source": [
    "Veja que a energia do estado inicial é muito diferente do valor esperado, ao redor do qual a cadeia \"termaliza\" após um certo número de passos, isto é, fica passeando de forma estacionária conforme a PDF do sistema. Este transiente entre o estado inicial e o regime estacionário é o chamado *burn-in*. Isto é debatível, até mesmo questão de opinião, mas é costume descartar esta primeira etapa da simulação. Neste caso, o burn-in levou aproximadamente 50 mil passos. Você pode descartar o burn-in fazendo, por exemplo, um slice do tipo `E[50000:]`."
   ]
  },
  {
   "cell_type": "markdown",
   "metadata": {},
   "source": [
    "#### Item 5\n",
    "\n",
    "Faça o histograma da energia do sistema (array `E`), que é uma aproximação da PDF $P(E)$."
   ]
  },
  {
   "cell_type": "code",
   "execution_count": 112,
   "metadata": {},
   "outputs": [
    {
     "data": {
      "text/plain": [
       "Text(0.5, 0, '$E_{j}$')"
      ]
     },
     "execution_count": 112,
     "metadata": {},
     "output_type": "execute_result"
    },
    {
     "data": {
      "image/png": "[encoded data removed]",
      "text/plain": [
       "<Figure size 640x480 with 1 Axes>"
      ]
     },
     "metadata": {},
     "output_type": "display_data"
    }
   ],
   "source": [
    "fig, ax = plt.subplots(1,1)\n",
    "\n",
    "ax.hist(E[50000:],bins = 30, range=[23000,26000], color = \"darkblue\", density= True)\n",
    "ax.axvline(E_esp,0,ls = \"--\", color = \"black\")\n",
    "ax.set_xlabel(r\"$E_{j}$\")"
   ]
  },
  {
   "cell_type": "markdown",
   "metadata": {},
   "source": [
    "Se você manteve a configuração original do notebook, e dependendo do gerador de números aleatórios do seu computador, a distribuição deve parecer assimétrica, e com múltiplos picos. Mude a semente da simulação, e veja que esta distribuição muda bastante. Provavelmente rodamos a simulação por poucos passos. Experimente dobrar o número de passos e refazer a simulação. Fazendo isso, certamente a distribuição passa a ser mais bem comportada. O esperado é que com um $N$ suficientemente grande nos aproximemos da PDF real do sistema."
   ]
  },
  {
   "cell_type": "markdown",
   "metadata": {},
   "source": [
    "#### Item 6\n",
    "\n",
    "Embora tenhamos descartado o histórico de estados do sistema, podemos ainda analisar o estado que o sistema ficou no último passo da simulação. Calcule qual a fração dos números quânticos ficaram em $n=1$, quantos em $n=2$, e assim por diante.\n",
    "\n",
    "**Dica**: talvez seja conveniente desenhar um histograma."
   ]
  },
  {
   "cell_type": "code",
   "execution_count": 113,
   "metadata": {},
   "outputs": [
    {
     "name": "stdout",
     "output_type": "stream",
     "text": [
      "n1 = 80.23% | n2 = 18.27$ | n3 = 1.43%\n"
     ]
    }
   ],
   "source": [
    "quant_n1 = 0\n",
    "quant_n2 = 0\n",
    "quant_n3 = 0\n",
    "\n",
    "for i in range(N):\n",
    "\n",
    "    for j in range(3):\n",
    "        \n",
    "        if n[i,j] == 1:\n",
    "            quant_n1 += 1\n",
    "        \n",
    "        if n[i,j] == 2:\n",
    "            quant_n2 += 1\n",
    "\n",
    "        if n[i,j] == 3:\n",
    "            quant_n3 += 1\n",
    "\n",
    "quant_n1 = 100*(quant_n1/(3*N))\n",
    "quant_n2 = 100*(quant_n2/(3*N))\n",
    "quant_n3 = 100*(quant_n3/(3*N))\n",
    "\n",
    "print(f\"n1 = {quant_n1:.2f}% | n2 = {quant_n2:.2f}$ | n3 = {quant_n3:.2f}%\")"
   ]
  },
  {
   "cell_type": "markdown",
   "metadata": {},
   "source": [
    "Nas configurações originais, aproximadamente 80% dos números quânticos são $n=1$, 20% são $n=2$, e uma ninharia é maior que isso. Experimente mudar a temperatura do sistema, por exemplo, $k_\\mathrm{B}T = 20$. O que acontece com a energia e a distribuição de números quânticos? Dependendo da temperatura, pode ser necessário aumentar o número de passos, pois o estágio de burn-in pode demorar muito e atrapalhar a distribuição."
   ]
  },
  {
   "cell_type": "markdown",
   "metadata": {},
   "source": [
    "Para finalizar, descubra o que acontece quando se aumenta o número de partículas para $N=2000$. Experimente com a temperatura e com o número de passos de simulação. A ideia é ter um entendimento intuitivo desta simulação de Monte Carlo."
   ]
  },
  {
   "cell_type": "code",
   "execution_count": null,
   "metadata": {},
   "outputs": [],
   "source": []
  }
 ],
 "metadata": {
  "kernelspec": {
   "display_name": "Python 3 (ipykernel)",
   "language": "python",
   "name": "python3"
  },
  "language_info": {
   "codemirror_mode": {
    "name": "ipython",
    "version": 3
   },
   "file_extension": ".py",
   "mimetype": "text/x-python",
   "name": "python",
   "nbconvert_exporter": "python",
   "pygments_lexer": "ipython3",
   "version": "3.10.7"
  }
 },
 "nbformat": 4,
 "nbformat_minor": 4
}
