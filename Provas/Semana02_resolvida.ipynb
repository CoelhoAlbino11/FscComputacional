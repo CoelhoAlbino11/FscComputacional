{
 "cells": [
  {
   "cell_type": "markdown",
   "metadata": {},
   "source": [
    "# Avaliação - semana 2\n",
    "## FSC5705 - Física Computacional\n",
    "## 14/08/2023\n",
    "\n",
    "### Atenção\n",
    "- **Não esqueça de reiniciar o kernel e rodar todas as células para testar o notebook antes de enviar.**"
   ]
  },
  {
   "cell_type": "markdown",
   "metadata": {},
   "source": [
    "### Item 1\n",
    "Podemos calcular a raiz quadrada de um número `float` utilizando o pacote `numpy`, fazendo"
   ]
  },
  {
   "cell_type": "code",
   "execution_count": 1,
   "metadata": {},
   "outputs": [
    {
     "name": "stdout",
     "output_type": "stream",
     "text": [
      "9.0\n"
     ]
    }
   ],
   "source": [
    "import numpy as np\n",
    "x = 81.0\n",
    "print(np.sqrt(x))"
   ]
  },
  {
   "cell_type": "markdown",
   "metadata": {},
   "source": [
    "Calcule $\\sqrt[4]{1728.8969}$."
   ]
  },
  {
   "cell_type": "code",
   "execution_count": 2,
   "metadata": {
    "nbgrader": {
     "grade": true,
     "grade_id": "raiz_quarta",
     "locked": false,
     "points": 1,
     "schema_version": 3,
     "solution": true,
     "task": false
    }
   },
   "outputs": [
    {
     "name": "stdout",
     "output_type": "stream",
     "text": [
      "6.448256044273179\n"
     ]
    }
   ],
   "source": [
    "x = 1728.8969\n",
    "a = np.sqrt(np.sqrt(x))\n",
    "print(a)"
   ]
  },
  {
   "cell_type": "markdown",
   "metadata": {},
   "source": [
    "### Item 2\n",
    "Para pequenos valores de $x$, $\\sin x$ pode ser aproximado por\n",
    "\n",
    "$$\n",
    "\\sin x \\approx x\n",
    "$$\n",
    "\n",
    "onde $x$ está em radianos."
   ]
  },
  {
   "cell_type": "markdown",
   "metadata": {},
   "source": [
    "Calcule o valor do seno de $5^\\circ$, $10^\\circ$ e $20^\\circ$.\n",
    "Compare os valores desses ângulos com os valores devolvidos pela função `np.sin()`. Note que esta função toma um ângulo em radianos como argumento, utilize a constante `np.pi` para a conversão entre graus e radianos."
   ]
  },
  {
   "cell_type": "code",
   "execution_count": 3,
   "metadata": {
    "nbgrader": {
     "grade": true,
     "grade_id": "aproximar_seno",
     "locked": false,
     "points": 1,
     "schema_version": 3,
     "solution": true,
     "task": false
    }
   },
   "outputs": [
    {
     "name": "stdout",
     "output_type": "stream",
     "text": [
      "0.08715574274765817 0.08726646259971647\n",
      "0.17364817766693033 0.17453292519943295\n",
      "0.3420201433256687 0.3490658503988659\n"
     ]
    }
   ],
   "source": [
    "# transformando de graus para radianos\n",
    "alpha = (5 * np.pi)/180\n",
    "beta = (10 * np.pi)/180\n",
    "gama = (20 * np.pi)/180\n",
    "\n",
    "angulos = [alpha,beta,gama]\n",
    "\n",
    "# calcula seno dos ângulos na lista \"angulos\"\n",
    "for ang in angulos:\n",
    "    print(np.sin(ang), ang)"
   ]
  },
  {
   "cell_type": "markdown",
   "metadata": {},
   "source": [
    "### Item 3\n",
    "A função abaixo deve receber um número `x` e retorná-lo *limitado* entre os valores `a` e `b`.\n",
    "\n",
    "```\n",
    "def clip(x, a, b):\n",
    "    # alguma lógica\n",
    "    return x\n",
    "```"
   ]
  },
  {
   "cell_type": "markdown",
   "metadata": {},
   "source": [
    "Escreva esta função, e demonstre o seu funcionamento para alguns valores de`x`, `a` e `b`. Utilize as estruturas de controle `if`, `elif` e `else` conforme necessário."
   ]
  },
  {
   "cell_type": "code",
   "execution_count": 4,
   "metadata": {
    "nbgrader": {
     "grade": true,
     "grade_id": "compara_valores",
     "locked": false,
     "points": 2,
     "schema_version": 3,
     "solution": true,
     "task": false
    }
   },
   "outputs": [
    {
     "name": "stdout",
     "output_type": "stream",
     "text": [
      "20\n"
     ]
    }
   ],
   "source": [
    "def clip(x,a,b):\n",
    "    \n",
    "    if x > a and x < b:\n",
    "        return x\n",
    "    elif x <= a:\n",
    "        return a\n",
    "    elif x >= b:\n",
    "        return b\n",
    "\n",
    "print(clip(21,10,20))"
   ]
  },
  {
   "cell_type": "markdown",
   "metadata": {},
   "source": [
    "### Item 4\n",
    "Calcule explicitamente a soma dos números inteiros ímpares entre 0 e 1000.\n"
   ]
  },
  {
   "cell_type": "code",
   "execution_count": 5,
   "metadata": {
    "nbgrader": {
     "grade": true,
     "grade_id": "somatorio_inteiros",
     "locked": false,
     "points": 2,
     "schema_version": 3,
     "solution": true,
     "task": false
    }
   },
   "outputs": [
    {
     "name": "stdout",
     "output_type": "stream",
     "text": [
      "250000\n"
     ]
    }
   ],
   "source": [
    "N = 1000 # quantidade de números\n",
    "soma = 0 # variável que vai guardar as somas\n",
    "\n",
    "for i in range(0,N + 1,1): \n",
    "    if i % 2 != 0:\n",
    "        soma += i\n",
    "        \n",
    "print(soma)"
   ]
  },
  {
   "cell_type": "markdown",
   "metadata": {},
   "source": [
    "### Item 5\n",
    "Calcule o valor aproximado de $\\pi$, usando os $N$ primeiros termos da série\n",
    "\n",
    "$$\n",
    "\\frac{\\pi^2}{6} = \\frac{1}{1^2} + \\frac{1}{2^2} + \\frac{1}{3^2} + \\frac{1}{4^2} + \\ldots\n",
    "$$\n",
    "\n",
    "Estime o erro relativo em relação ao valor assintótico (usando a constante `np.pi`), para vários valores de $N$.\n",
    "\n",
    "Dica: se você vai usar a função `range()`, note que `range(1, 50)` vai de 1 a 49. Para iterar de `A` até `B`, inclusive, é preciso fazer `range(A, B + 1)`."
   ]
  },
  {
   "cell_type": "code",
   "execution_count": 6,
   "metadata": {
    "nbgrader": {
     "grade": true,
     "grade_id": "aproximar_pi",
     "locked": false,
     "points": 2,
     "schema_version": 3,
     "solution": true,
     "task": false
    }
   },
   "outputs": [
    {
     "name": "stdout",
     "output_type": "stream",
     "text": [
      " Para N = 1 | O valor de pi obtido :2.449489742783178 | O erro relativo obtido:0.22030319876632393\n",
      "\n",
      " Para N = 10 | O valor de pi obtido :3.04936163598207 | O erro relativo obtido:0.029358044717329577\n",
      "\n",
      " Para N = 20 | O valor de pi obtido :3.094669524113704 | O erro relativo obtido:0.014936096002921166\n",
      "\n",
      " Para N = 50 | O valor de pi obtido :3.1226265229337264 | O erro relativo obtido:0.006037106890479486\n",
      "\n",
      " Para N = 100 | O valor de pi obtido :3.1320765318091053 | O erro relativo obtido:0.003029075640921837\n",
      "\n",
      " Para N = 250 | O valor de pi obtido :3.1377782485525585 | O erro relativo obtido:0.0012141628332610313\n",
      "\n",
      " Para N = 500 | O valor de pi obtido :3.139684123138722 | O erro relativo obtido:0.0006075041106588077\n",
      "\n",
      " Para N = 1000 | O valor de pi obtido :3.1406380562059946 | O erro relativo obtido:0.0003038577845882608\n",
      "\n",
      " Para N = 1000000 | O valor de pi obtido :3.1415916986605086 | O erro relativo obtido:3.0396343187411654e-07\n",
      "\n"
     ]
    }
   ],
   "source": [
    "def PIvalue(N):\n",
    "    b = 0\n",
    "    for n in range(1,N+1,1):\n",
    "        b += (1/(n**2))\n",
    "    \n",
    "    pi = np.sqrt(6 * b)\n",
    "    \n",
    "    E = np.abs((pi - np.pi)/(np.pi))\n",
    "    \n",
    "    return pi,E\n",
    "\n",
    "valores = [1,10,20,50,100,250,500,1000,1000000]\n",
    "    \n",
    "for i in valores:\n",
    "    print(f\" Para N = {i} | O valor de pi obtido :{PIvalue(i)[0]} | O erro relativo obtido:{PIvalue(i)[1]}\\n\")"
   ]
  },
  {
   "cell_type": "markdown",
   "metadata": {},
   "source": [
    "### Item 6\n",
    "Calcule o fatorial de um número inteiro $n$. Verifique se o código funciona para $n < 10$. Calcule $200!$, e corrija o seu programa se o resultado não parece correto."
   ]
  },
  {
   "cell_type": "code",
   "execution_count": 7,
   "metadata": {
    "nbgrader": {
     "grade": true,
     "grade_id": "fatorial",
     "locked": false,
     "points": 2,
     "schema_version": 3,
     "solution": true,
     "task": false
    }
   },
   "outputs": [
    {
     "name": "stdout",
     "output_type": "stream",
     "text": [
      "O fatorial de 5 é 120\n"
     ]
    }
   ],
   "source": [
    "def fatorial(n):\n",
    "    fact = 1\n",
    "    \n",
    "    for mult in range(n,0,-1):\n",
    "        fact *= mult\n",
    "        \n",
    "    return fact\n",
    "\n",
    "N = 5\n",
    "print(f\"O fatorial de {N} é {fatorial(N)}\")"
   ]
  },
  {
   "cell_type": "code",
   "execution_count": null,
   "metadata": {},
   "outputs": [],
   "source": []
  },
  {
   "cell_type": "code",
   "execution_count": null,
   "metadata": {},
   "outputs": [],
   "source": []
  }
 ],
 "metadata": {
  "celltoolbar": "Create Assignment",
  "kernelspec": {
   "display_name": "Python 3 (ipykernel)",
   "language": "python",
   "name": "python3"
  },
  "language_info": {
   "codemirror_mode": {
    "name": "ipython",
    "version": 3
   },
   "file_extension": ".py",
   "mimetype": "text/x-python",
   "name": "python",
   "nbconvert_exporter": "python",
   "pygments_lexer": "ipython3",
   "version": "3.9.12"
  }
 },
 "nbformat": 4,
 "nbformat_minor": 4
}
