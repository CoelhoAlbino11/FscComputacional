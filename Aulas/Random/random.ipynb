{
 "cells": [
  {
   "cell_type": "markdown",
   "metadata": {},
   "source": [
    "# Processos aleatórios"
   ]
  },
  {
   "cell_type": "markdown",
   "metadata": {},
   "source": [
    "Alguns processos na física são aleatórios em sua natureza, como fenômenos quânticos. Outros são determinísticos, mas podemos tratar como aleatórios dado que não temos o conhecimento completo do estado do sistema. Por exemplo, o movimento browniano. Para simular e fazer cálculos desses tipos de sistemas, é necessário obter números aleatórios num computador. Veja, um computador é uma máquina determinística, isto é, dado um estado inicial e um programa, um computador terá sempre a mesma evolução temporal. Obter números aleatórios num computador parece ser contraditório, mas depende do que queremos fazer com esses números. Na verdade, para as aplicações que vamos analisar, basta termos números que se comportem de forma aleatória o suficiente. Números como esses são chamados de *pseudo*aleatórios."
   ]
  },
  {
   "cell_type": "markdown",
   "metadata": {},
   "source": [
    "## Números pseudoaleatórios\n",
    "\n",
    "Com um programa adequado, um computador pode gerar uma sequência arbitrária de números. Precisamos de um algoritmo que gere uma sequência virtualmente indistinguível de uma sequência aleatória. Tal algoritmo é chamado de gerador de números pseudoaleatórios, ou PRNG.\n",
    "\n",
    "Uma classe de algoritmos deste tipo são os geradores congruentes lineares (LCG). Eles são baseados na [aritmética modular](https://en.wikipedia.org/wiki/Modular_arithmetic), onde os valores crescem até certo valor, e \"dão a volta\", indo a zero. O exemplo mais fácil de visualizar é um relógio."
   ]
  },
  {
   "cell_type": "markdown",
   "metadata": {},
   "source": [
    "CC BY-SA 3.0 [Spindled](https://commons.wikimedia.org/wiki/File:Clock_group.svg)\n",
    "\n",
    "![Somando 4h num relógio marcando 9h resulta em 1h.](data:image/png;base64,iVBORw0KGgoAAAANSUhEUgAAAoAAAAEYCAYAAADMEEeQAAAABGdBTUEAALGPC/xhBQAAACBjSFJNAAB6JgAAgIQAAPoAAACA6AAAdTAAAOpgAAA6mAAAF3CculE8AAAABmJLR0QA/wD/AP+gvaeTAABcYklEQVR42u29e3xV1Z3+/+x9ck8ICeESIBAiVwsEMYTkEJQoKqKiVsBSb3XqrZdpnU7baaftTOf7+87PaaftVKe1F7XVdoYWRWhRFCuIUUNOAka53y8JJJAASSDkRs5lff8IYISck73XXvucfU6e5/XiRbIva++99lrvfJ611l4LoCiKoiiKoiiKoiiKoiiKoiiKoiiKoiiKoiiKoiiKoiiKoiiKohwvjVlA9Zbb7R7i8/kyAEDTtEGapsUJITRd1zN6HxcIBM5omiaEED4hxDkAiIuLO+PxeJqZixRFUeQzxQCQirCWLl3qOnHixOhAIDBOCDFOCJEHYIymaUOFEFkAev9zWbycH0DTxX+apjUJIU4BqNM07YimaTW6rteMHDmyfuXKlX6+HYqiyGfymWIASFlzh8mBQOAzAPI1TZsOYLqmaVcJIcYAiHfY7Xo1TTsmhDgMYIcQYgeA7cnJybvKysq6+DYpiiKfyWeKASB1mUpLS5O6uroKAJQAKACQD2CiAocYafkBHACwXdO0D4UQFZmZmR+uW7fuPN86RVHkM/lMMQAcULruuuuGdXd3z9F1fa4QYs4FqCQOkMc/D+BDIUSFpmnlXq+3orq6+jRLBUVR5DP5TDEAjCktXbrUdfTo0Ws0TbsJwCIAbgA6c+aSdgN4HcAGr9f7XnV1tZdZQlEU+Uw+UwwAo9JF+ny+RUKIW4UQN2ualsFcMaQWAOuFEG/5fL7X6T4piiKfyWeKAaCjNXfu3Ey/379ICLEUwAI4bzBwtMkPoFIIsdLlcv25oqLiJLOEoijymXymGABGXAUFBYPj4+M/C+BzAOYTKrbJC2A9gFeEEH+pqqpqZZZQFEU+k88UA8CwqqioqEDX9ceFEPcDSGWOhFVd6BmT8lxlZeU7AASzhKIo8pl8ZgBI2aLS0tKMzs7OezVN+wqAGcwRR2gvgJe8Xu/vOB6Foshn8pl8ZgBIKdOcOXOuEUL844WxI0nMEWe6TiHEK0KI/9q8efM2ZgdFkc8U+cwAkJJSUVHRXE3TvgPgduZvVGkTgB9XVlauBbsfKIp8pshnBoBUf1q4cGHimTNn7gfwj0KIqcyRqNYOAP917ty5P+3ataub2UFR5DNFPjMApD6lgoKC+ISEhM8D+KEQ4qpofAaXy4WUlBSkpqYiOTn50s8JCQmIi4sDACQlJUHTNGhaT3ERQkAIga6uniUhfT4furu70d7ejo6ODnR2dl762e+P2vXEjwkhfjZkyJDfcJkjiiKfyWfymQEgBQC62+1eLIR4CsAER9+ormPo0KHIyspCZmYmhgwZcun/jIwMpKSk2Hr9jo4OtLS0XPrX3NyMlpYWnD59Gk1NTQgEAk5/17VCiKeSk5N/X1ZW5mPRpyjymXwmnxkADkywLBNC/BDAJKfdXGpqKkaNGoWRI0ciOzsbI0eOxIgRI+ByOXP9cb/fj4aGBjQ0NODEiROX/rW3tzvxdvcC+LfKysqVAAKsChRFPpPP5DMDwAEgt9s9OxAIPK1pmtsp95SVlYXc3FyMGzcO48aNw/Dhwy91A0SzmpqaUFtbi/r6etTU1OD48eNOcqLVgUDgG5s3b/6AtYKiyGfymXxmABijKioqytF1/SkhxAORzq+MjAxMnjwZkydPRl5enu3dA05RR0cHDh8+jH379mH//v04c+aME25rLYCvVVZW1rCWUBT5TD6TzwwAY0QFBQUp8fHxXwPwAwBpkbgHl8uFvLw8TJo0CZMnT0Z2djZfDIDGxkbs3bsX+/fvx+HDhyPpPjsB/LfL5fr/N23adI5vhqLIZ/KZfGYAGMUqLi5eBOBXAHLC/kI0Dbm5ucjPz8eMGTOQlpbGFxKqhnd2Ys+ePdi+fTv2798fqa/ajgYCga9s3rz5Db4RiiKfKfKZAWCUqaioaISu6z8RQjwYbqiMGzcO11xzDaZPn47UVOctQ+nz+dDQ0AAAyM7OvjQFgZPU1taGnTt3YuvWraipqYEQYZ8vdKWu639fUVFxkrWJoshn8pl8ZgAYBXK73UuFEL8CMDRc10xOTkZ+fj5KSkowYsQIR+dPXV0d7r//fgDA8uXLkZOT4+j7PX36NLZs2YIPP/wQbW1t4bx0ixDiu1VVVc+DM9ZTFPlMPpPPDACdqeLi4nEAngdwUziup+s6JkyYgMLCQnzmM59xpFOLBcD0dsZ79uxBVVUVDh48GDbXqWna2y6X67Hy8vKj/PNNUeQz+Uw+O01xA/nhL7jK3wLItPtaLpcLM2bMQGlpqePdZEwV8Lg4TJ8+HdOnT0dTUxMqKipQVVUFr9dr63WFELf4fL4dRUVFX62qqvpfvgmKIp8p8tlJGpAtgEVFRem6rv8yHGNJUlNTUVhYiJKSEqSnp0dtnkWrw+xLbW1tqKysREVFRbgmNV0ZFxf3RHl5eQuRT1HkM/lMPjsiAB+AcCnWNO1/hRDj7bxOeno6brjhBhQWFiI+Pp5Ud5DS0tJw00034frrr8eWLVvw7rvv4tw5W2cJWOrz+WbPnj37QU5QSlHkM0U+MwAMr/Ti4uJ/AfAvAGxbeyc1NRXXX389SkpKCBaHKyEhASUlJSguLsaHH36I9evX2wmaXF3XNxYXF/9bZWXlU+AAZIoinynymQGg7a4yHcAfANxt1zVSUlJQUlKCuXPnIikpibU3iuRyuVBUVISZM2eioqIC7733Hjo6Ouyqb//udrvdLpfrQXYJUxT5TJHPDABt0uzZs2domrYKwHi7CuesWbOwYMECR84PRZlznKWlpSgqKkJZWRnKy8vh8/mUX0cIcbvP59vsdrvv8Xg8O5jz1EAV+UyRzxEMrmP54dxu9+c1TfsrAFs+65owYQIeeughFBYWIiEhISbyTAgRdMHyjIwMFBYWYtq0aUhISLjiuIuf8Ef7gufx8fGYOHEi8vPz0dLSgtOnT9txmSEAHs7Jyamvq6vbSrxTA03kM/lMPkdWMfkV8NKlS13Hjh37CYBv2JH+iBEjcMcdd2DSpElRCxFDhcMgKMzM3RSN8Nm7dy/Wrl2LU6dO2VMJNe2nHo/nOwACoKgYF/lMPpPPDABtUX5+fmpqaupyIcRdqtN2uVy47rrrcMstt8DlckUtSCJVyZ12P2bk9/vxwQcf4O2337ZrPcu/eL3eB6qrqztAUTEq8pl8Jp8ZANqiwsLCbJfL9RqAQtVp5+bmYvHixY6cJPRit8DlFTha3Fw03XdjYyNeffVVHD1qywTym4UQd1ZVVTUyVKBiTeQz+Uw+MwC0Cy5TXS7XWgDjVKabkJCA+fPnY968eY4r+FYqZrifxUw3hNOBI4TA5s2b8cYbb+D8+fOqkz8C4PbKyso9DBko8pl8Jp/JZwaAIVRcXFwqhPiLpmkZKtMdO3YsPv/5z2PIkCGOhIqRiud0l2kEPE4dvHzmzBmsWLECR44cUZ10SyAQuIuTRlPkM/lMPpPPDACDw2UhgFUAklWlqes65s+fj/nz50e8UJt1W2bv1+7nM7u4d3/HOw02Qgi89957dow96dA07R6Px/M3hhAU+Uw+k8/kMwPAT8NlEYBXACib2TMzMxPLli3DuHHjogIq0eoyjYIn1HFm3badOnbsGP785z+jqalJZbLdQoj7qqqqVjGUoMhn8pl8Jp8ZAKJnDikhxB+hcDLrmTNn4p577ononFFGHJRql2lHBTXrLM24y2D7Ig2Zrq4urFq1Ctu3b1eZrB/AI5WVlX9gSEGRz+Qz+Uw+D+gAsLi4+DEAvwGgq0hP13UsWLAApaWlEXdbwSqJVZdpBSI+fwCvvncQb2+pRd3pNggBjBmWhlsKc7Fk3gTEuXRb4GPUXTrNdVZVVWHNmjUquxyEpmlf93g8v2RoQZHP5DP5TD4PyADwAlx+q+reU1NTcd9992HChAmOA0u4XWZf53We9+Hr/12G3bXNfR4/LS8Lz3ytFEkJLmlnqcJdyjh1O3XkyBEsX75c5eLlAsDjlZWVLzDEoMhn8pl8Jp+tKqqWgnO73UsBvKjKWebm5uLxxx/HyJEjIwIWTdMu/bu8kgcDjpF9/YEp1L/L9R/Lt6BydwOGZ6bgew8U4p/vK8SDt0zBlLFDsPNIE46caMXps524Pn+0VPpG79/IvmDbItH9kJmZiRkzZqC2thZnz55VZdbuGDNmzMG6ujquH0yRz+Qz+Uw+D4wA0O123y2EeBmKxpTk5+fjC1/4ApKTkyMGFiMVSLbSBavsZpxmbeM5/GRFNRLiXHjuWzfhmgnDkBDvQkK8C3kjB2PO1FF4bdNh7K87g5sLcjE4NcFQukbuSea5Q22PhOtMSkpCQUEBmpub0dDQoAoyd48ZM2ZPXV3dboYcFPlMPpPP5HNMB4BFRUU3A1gNQMno37lz52Lx4sVhWy7ICFiMuKZwucyL5656/yA+2n8Sd7ivwu3uvCvSGZyWiIaWduw92oKMtERcO2m4I9xlf3kdTsep6zqmTp0KTdNw+PBhJUkCuGv06NEf1dfXH2DoQZHP5DP5TD7L3qyjVVxcXKpp2hoAiSpe9j333INFixaFrYAFczXR4DJ3HD7dA+T8UUHTmDt99KeOdaK77GubEEJ6PIxpW6hpuOmmm7B06VJVf9QSNE1bOXv27OsYflDkM/lMPpPPMRcAFhcXX33BWVruB0hKSsIjjzyCoqKisIHlopPpXcDNVIJIu8zahlYAwFUjBwc9f/yonn01Da0Rc5dm8rMvtxku0MyaNQsPP/wwEhMTVSSXouv663PmzJnGMIQin8ln8pl8jpkA8LrrrhsG4HUAmVbTSk5OxiOPPBKWL8lUgUXGWal2ma0d3QCAIenB53HNHNSz71xnt3J3KQNdp4Nm0qRJePzxx5GamqoiucGBQOC1oqKiEQxHKPKZfCafyeeoDwDdbney1+t9DcB4q2mlpaXhiSeewNixY8MCl4uF9vJCbaUymKloZlxmf07zvLdnnqTE+LigxyQl9oz57jrvNw0yK90NVtxlqHcUDsjk5OTgiSeeQHp6uork8nRdX5ufn58KiiKfyWfymXyO4gBQF0IsB1BsNaGMjAx8+ctfDss0AkZcpSqXabWiGgVAYnzPeIhuX/AJM8939+xLSnRZvq7R7gbV7jISbnPEiBF4/PHHkZGRoaLszUpJSVmxdOnSqJrWiYpKkc/kM/kcI3x2XABYXFz8UwCftZpOVlYWvvSlL2Ho0KFhd5VGHY3TXeaglJ6P+lrOnQ96zJm28wCA9JTEqHaXwUBjp4YNG4YnnngCQ4YMUZHcHUePHv0PxicU+Uw+k8/kc9QFgG63+z4A37CazuDBg/Hoo48iMzPTVrD09bm6WVfjZJc5LrunCfzwieATZR463rMvNzs9qt1lsHdnt9scMmQInnjiCSVOU9O0b7vd7ocYplDkM/lMPpPPURMAFhUV5QshnreaTlpaGh599FFVUbu0q4w2l9nX8TMmDAcAlG8/HhQW5TvqAQAzxg+Tvo4T3eXlx9sJmYyMDDz22GMYNGiQirL5K34ZTJHP5DP5TD5HRQA4d+7cTE3TVgNIsZLOxakEhg8fbitcghXCcLhMq1MMmJkK4KaCsdA0DW94Dl+acqC3ahta8abnSM88SrPGSl3DjLu0mmdmwXP58Xa6zaFDh+LRRx9FSkqK1aRSA4HA6tLS0gxQFPlMPpPP5HMQOWFQoj5q1KhXARRZhctjjz2G0aNH2w6X/gqinWAxWvlkXWbvczIHJeHoyXPYd6wZ722rw6ihgzAiMxU+v8CmncfxgxfK0drRjdvdV+Gz1000lbbViUbtAI2ZPxx2TFSblpaG8ePHY9u2bfD7/VaSyvL5fFPr6upeRs8i5RRFPpPP5DP5/Ok8izRdiouLfwjg3yxFsS4XvvjFL9o6j9TlcDHjUIz8bnWb2YJv9Lj2Li++/LP12FPb3Of+qXlZ+NU3bkJKUny/+Wc0n83sk91m5Xe7lyo6dOgQfv/738Pn81lN6vuVlZVPMYahyGfymXwmn6+omxGGSwmAF2GhK1rTNCxevBjTpk1zBFxUuEwzTeoyLtNM5UiMj8OiOROQlhyPlnNd6DjvQ3ycjvGjM/DAzVfjnx8oRlJCnKH3ZKe7lM1jWXdp58LlQ4YMweDBg7F7t+X1xOeNHTt2w7Fjx+oYylDkM/lMPpPPn8q3SF24oKBgcHx8/FYA46ykM3/+fNxyyy1hAUtfBU2lywxV6SLpMlXkY7jcpWo32Ze77K+MqNJbb72Fd99911oF17TDgUBgZlVVVStDGop8Jp/JZ/L5oiL2EUh8fPyvrMLlmmuuwc033+w4uMi6TCNOKxIu07LLCKO7DJWXqtzl5fvsGni8YMECXHvttVbL8VWapj3DkIYin8ln8pl87q2IdAEXFxffD+CHVtLIzc3FQw89BJfLpRwsRoAhUzhlCr8R2Ni96LiVf0avaxQ2RsFr9ksyq+/cji4HTdMwZcoUHDx4EGfPnrX0t3j06NH76uvrdzK0ochn8pl8Jp8j0gJYXFw8DsCzVtJIS0vDAw88gLi4OFvu0YrbsMNlGnFbTnWZdrlL2TxU7S6D7VOluLg4PPjgg5bXpdQ07VeFhYVjGN5Q5DP5TD6TzxEJAAE8B2CwdJOly4UHHnhA1ULNV7hLGSdJlzmw3WVfTlOl0tPTsWzZMui6peqa6XK5nmOIQ5HP5DP5TD4DYe4CLioq+jtN0/7RShqLFi1Cfn6+crCEcgzhcpmqJxuNtMtU6S7tmkdKtbu8CBnV+TpkyBAkJCTgwIEDVpKZMHr06EP19fXbGedQ5DP5TD4PbD6HLQAsKCgY6nK51sDCbPIzZ87EbbfdZltlMPKzCpepchkiVS5TpdM0cw2ZZzGyrT/w2OEu7YbM2LFj0djYiJMnT1op5/PGjh370rFjx9oZ8lDkM/lMPg9cPoetCzg+Pv5ZAENlz8/KysJnP/tZ5ffVX7eCjMMwCx4nuEzVg2Od5i6tvCcz7/5yyKjsctA0DUuWLEFmZqaVZLICgcDPGPJQ5DP5TD4PbD6HJQAsKiq6DcC90jep61i2bBkSExMdDxfZAu0Ul2nFaZpNN1Lu0o53a+QcFUpKSsKyZcuspv1AcXHxIoY9FPlMPpPPA5fPtncB5+fnpyYkJLwFCwOLb775ZsycOVMpWGQKiZkm5nAuRh5qu4pFx606S5l1MO10l3a813B2N2RkZCAQCODIkSNWknGPGTPmubq6Oh+oASvymXwmnwcun21vAUxJSfkuAOnPm8eNG4cbb7xR+X3JFBS7Xaaqhcdl3J0VpymTVqhjrLhLOwYVW3WXdnx9dtNNN2Hs2LFWkhgH4NsMgQa2yGfymXweuHy2NQC8MK+N9FdliYmJKppTr3CXVuBip8u0UqlUu0wzeS6Tjl3u0mxe2+0ug92D5Yp7odstISHBSl347ty5c8eCGpAin8ln8nlg89nWANDlcv0UFr4qu/XWW60OqBxQLtNKpVbhEFW4S6vP7kR32fuPm0qnmZWVhQULFlhJItnn8z3FUGhginwmn8nngc1n2wJAt9s9B8BS2fPHjh2L4uJipc4yWF+/XXAJt8u0WrHNuEQr3Q9G03aSu7RaXnpvUwmZOXPmIDc310oS9xUVFc1lODSwRD6Tz+Qz+WxXAKgLIZ4GINWuGhcXhyVLllidWftTcDFTAGShEesuU9bFx4K7lH3vRvZbqmi6jnvuucfKsluapmlPIzKrAlGREflMPpPP5LM9ibrd7mUACmXPv+GGGzBixAjlBV3mhTvNZZqpjGaA4rRlhvoDkNPcpdkyp9JlZmdnY968eVaSKHC73YsZFw2Y1j/ymXwOC59bW1vJZwfzWXkAuHTpUpcQ4l9kzx8xYgRKS0uV3Y/VQcVWgBWuxcitukw7nKbViUZDbY+Eu1RdHlRDZv78+Rg2bJiVevLvS5cuDevSkFT4RT6Tz+Hg87Fjx/CHP/wB5eXl5LOD+aw8ADx27NiDAKbInn/HHXdYaS69Ai5WC4Gqn+1ejNxJLlOlu7QCX5Xu0o6fVcrlcuH222+3ksSkY8eOLWOIFNsin8lnO/l8/PhxvPzyy3jppZdw9OhReL1e8tnBfFYaABYUFMRrmibtLq+++mpMmjRJudNR4QZUFSi7FiN3ksu0012GYzHxcIFFtctUUH/+rbS0NA5UTIp8Jp/t4vPp06exatUq/O53v8P+/fsvbb8YAJLPzuSz0gAwISHhi0KIqyIUIV/hLlUNKg63y5RdhsgJLtPu1j+jDtyJ7jLYfpWQWbRoEVwu6Z6CCZ2dnQ8yVIpNkc/ks2o+t7a2Yu3atfj1r3+NXbt2XcEyr9dLPjuYz8oCwIULFyYKIb4ve/6cOXMs9ZHLwMOpLtNMq5fTXGakWv+sAj0SYAl1rKyGDx+OoqIiK+/vXwsKCuIZLsWWyGfyWSWfOzo6sGHDBvziF79AdXU1AoFAn+lc3gJIPjuLz8qaE8+cOfMAJJcUSklJwU033WSLu4wW0Ji9P6PHGN1n5diLeW40rVBjf3rv62tepssd2eXH9LX/8mkm+jrWjp+D3UNfP/c1FYasbr75Znz88cfo7OyUOX1cXFzcMgD/w7DJomY++UlB+PgZLZK3Qj6Tzyr43NXVhS1btuD999/H+fPn+72uz+cLyUfyObJ8VhUAagC+IXvyvHnzkJSUpBwuTnWcVsBjFixmPoVX5ej7A0+wgC9U0NdXJZQBidPAEiywtaKUlBRcd911ePvtt2Xf5bcB/C8AtQtkOl0Fj8dDJFdBYKZTAjfymXx2Ap+9Xi8qKytRXl5uKnDp/REI+ew8PivpAi4uLr5VCDFV5tzU1FS43W5lcDFTEfv6OZJjTVRPQGplrEmw462eH2q/0ecykpdm813lz7J/zPpz6mZ03XXXIS0tTfb06UVFReqafKJFgeR//VTwFyMin8lnWT4LIVBdXY2nn34a69evN91qFawLmHx2Bp9VjQH8puyJN9xwAxITE9VZ3X5eciy5TJnJRs1CxAqA+js+2D4j22RAEq73Krtf5ViThIQEXH/99RGp01GpGd+YDeCfAbTH4NORz+SzKT4DwM6dO/HMM89gzZo1OHfunNT77u7uJp8dzGfLAWBRUVE+gBtlzk1PT1e6nqRKkNBlqnkf4Wz9U7lMUDjBcvl+VS5zzpw5SE9Pl313C+bMmXPNgAj+3N9IhivwRwAuaNp3YunRyGfy2SyfDx06hGeffRYvv/wympubLV2jdxcw+ew8PlsOAHVd/xYk15S84YYbEB9v/YOWiwuJRxtoosVlqppuwO7WP9m8dgpYVCs+Pt7SEkSBQOAfIhK1zHxSfOoDCrvVFfgRBCYD2IiPnv5VLAWA5DP5bJTPtbW1eOGFF/Diiy+ioaFBSfnz+XxB3z35HHk+WwoAZ8+enSWEWCpzbmpqKgoLC5VlptGX5hTQmHWg0eYyndT6Z9f7swssKl3m7NmzkZqaKnv659xu95CYbv2b8fUbAHwNGs4Bvi/Czg9fZn81CzOffAYzn6zFzCe7cO2Te3HNP/wzCh63Zdod8pl8NsJnIQRWrFiB559/HjU1NUqvI4SA3+8nnx3KZ0sBoK7rDwGQ+jxszpw5ytxlNIJGxVQETnWZTmv9U9nFYDdYQpVtGSUkJFjpxksSQtwfs8Ff0dfSoesvAtAQwDfx8bO1tl0r/1vD4Y0rB/B1AGMBJEJgMjTxFALJtky5Qz6Tz0b4rOs67r77bsybN8/KJMVB1d3dTT47lM+WAkBN0x6ROc/lcikZW3L5Z+VWX2q456aKVZcZi61/Ro+1owxa1Zw5c6ys3/pYzAaAXv0ZQOQC+Bu2PvO8rddyeX8NiAPQ/VfjXCAJQvssgI6LTh7XPrnAhlYe8pl8NpRucnIyFixYgCeffBJTpkxRWg79fj/57FA+SweAxcXFJbJTC8yaNcvKJ9CGnJRdL14laMLtMs221IVjmSGnt/5ZPdZqmVThMtPS0jBzpvTsJtOLi4uLEGua+eSdEHgYwFn4A4+G4YpXQ+9ajOpf7sXBX5zH1qf/CuDHvcIlpUs8kc/kswyfhw0bhoceeghf/OIXMXz4cDU+68JycOSz8/hspQXwMVkozJ07V4m7NDOwWHXhUAWacLpMmdY6K87SyFQDTm39sxMsZs5RpXnz5kHX9bDWdceq4JtDATx3ASRPYvsv6uy/qPhvVD/n/fQm7bVPfkah4guSz+SzNJ8nTpyIr3/967jjjjssTwLeXxcw+Rw5PktdsaCgYDAAqcHFEydOVOYsrLwwqy5U1bEq1qcMBR8ZlynjNK20/sk8m515reJYVWBRBZthw4bhqquukj39cyUlJYNiJgAM+H4DYAQE1mLrf/8hLNfU9Peu2NaZcKjXAaOUxbfkM/msgM8ulwslJSX49re/jWuvvVa6HPh8PvLZoXyW6nhOSEhYLIRIkTlX5Zdldr1AuxaNVuF6ZJYh6u/eVC0y3lcrQLDj+lsCzspyb0bXngz2HFaXEgp1LZltwZbPMqvZs2fj4MGDMqem+Xy+u6FyfWAj07yEOkZ2ibZrn3wAAosBNMOlPR62oLM94cpWxn3/2YaZT178LVXVpchn8lkln1NSUmTXrQXwSRcw+ew8Pku1AAYCgXtlzktNTcXUqVMtZ5SR9SSdAhojFV6ly+yvhc2MyzTiNM2ca/TeVLf+qXwHdrtHO8eaTJ06VXrKAU3T7kUsSOAXF/7/GqqfPhG26+77z3N93k2vLFbWwEk+k88K+Xzw4EHs2bNHujwY+QqYfI4Mn023AM6ePTtL0zSpmeVnzZql/DPzaASNyi/TjLpMuxYdt7rIeLha/+xcPFy1o1QNlkuVPS4O1157LT744AOZ0xe43e4hHo+nWcnNhGrBu9jyJ9vKF1oZF8Kt5Zj55HJTrZD23I9Skc/ks0o+BwIBvPHGG5bKwOVdwOSzc/hsugVQ1/V7AMTLFEQV3QvBMnwggKY/lyk755SKRcPNHi/70Ue48ztSjtJM2TejoqIi2T8m8UKIO0E5WuQz+aySz5WVlSFXBbn++usxc+bMkNfsaz1g8tkZfJYZAyjV1JiXl4dhw4YpdZWRetlOA00kXGaoY620/vXlrMLd+uckR3lxmyq3OWzYMOTm5srO+H8vgJeiOkIy0ooXZa1+5DP5bAefOzo6sGHDhqDpDB48GPPnz0dCQgLcbjfWrl2Lo0ePXnFc7/WAyWdn8dlUC+B11103DECpzJ1dc801thHPLBiMfhWk8uuiWHCZZt5HNLb+Wdkvs83KHwMrmjFjhuypN82ePTuL7WzOFPlMPqvk8/r169HR0RE0ndtvvx0JCQkAgDFjxuCJJ57AkiVLrphD8mIASD47j8+mAkCfz7dIptVQ0zQlg4v7y3izLyrSc1OpnJw02O9mZp7vCw52LgNndsJnlUsGqZxmwu7yF8qBymj69OnS3Qwul+t2hlrOFPlMPqvi88mTJ1FZWRn03eTm5l7BEV3XUVBQgG9/+9uYP3/+pdUtfD4f+exQPpsdA7hQ5q4mTJhgeWZ5IxOLmnWXKqARie4GJ7vMWGz9Uz3GxCqIrEJm0KBByMvLkzo3EAjcylDLsSKfyWclfH7ttdcQCASCpnHnnXcGfWcJCQmYP38+nnzySUyfPt3UV8Dkc3j5bDgAXLp0qUsIIfV1mYUmzbC9NDvgYxdonOoyo7H1T7V7VFkO7ex6kK2TmqYtWLp0qfoV4ylLIp/JZ1V83rVrF/bv3x/03cyePRs5OTn9PndWVhY+//nPY968eeSzQ/lsuLvg6NGjbk3Thpi9IZfLpax7QSU4oh00Zvb1lw+qCm1/TijYBx+9t4X6yOPy36NxILHK461o+vTpWLNmTVCXH0JDjh07NgtAlW3RTKQ/vFB1fSPpKLoW+Uw+q+Cz3+/H2rVrg6aRmJiIW265JSiX+uLpxdZl8tl5fNZNFB6p7oW8vDykpKTADg1k0DjNZUZL65+THaWd8L9cqampGDdunOzpC0E5SuQz+ayCz++99x5Onz4d9D3cdNNNGDRoEPkcI3w2MwZQauzP5MmTLWdGf0utRHq8SaRAYwQ84Rpr4vSxf5ECi8ouMNVuc9KkSbKnchyg80Q+k8+W+NzW1oaNGzcGTSMrKwtz584ln2OIz4YCwAvTC8yMFGBUvZRIuEs7QeMUl+nk1r9IgyVcZTjMdbPQ7XYPAeUIkc/kswo+v/nmm+jq6gr6Hu68807ExcWRzzHEZ0MBoM/nmwuJtSozMjIwYsQIW6DnBNDY/al6tLhMJ7b+Wdlv1/xQTgHLRY0cORLp6ekyp+oA5jD0cobIZ/LZKp/r6+uxZcuWoGlMnDjxU2NFyefY4LPRLmAp2DuleyESX/6ECzRG98m6zFBO08jxMoGgFXcZDsdpd3kymqbVbgZN06x0M5Qw9HKMyGfyWZrPQgj89a9/DcoTXddx1113kc8xyGdDAWAgECiJFGBUwCTchUbGwVgBjZF9fVVcIy7TLHiMBIP9dQPLuEujx4ZzslDZtMLpNqdMmcIAMMpFPpPPVvi8detWHD58OHhFLynByJEjyecY5HO/AeDChQsTNU27VgYGspMZWgGNbKGwo4DJulCzx5rZZzRIs/JujHYFq2j9s5qXdr93q/v6O8aqy7zqqquk3rsQYvbChQsTGX5FVuQz+WyFz16vN+S0LykpKbj55pvJ5xjlc78BYHNzcyEA06AfPny45ekFrHQv2AmacA1ANts0LjPo2KjLlBlsHKorWMUzhRMsdn0tZlf5NarU1FQMHTpU5tTEs2fPXgsqoiKfyWcrfH7nnXfQ0tISNJ9vu+22T60SQz7HFp91Aw8oNb4kNzc3bK5SRX+9nW7UbtCYdaChYGOl0IZKx2zrn515ZafLVLUvnN0MsnXV7/ezGzjCIp/JZ1k+t7S04N133w16fHZ2NoqKisjnGOazkTGAsyIBmFAzbofTVTodNGaON/q1mYzLDJWGLBitPGu0gkW2XFuR7ISjmqYVMASLuMhn8lmKz6+99tqldXr70t133424uDjyOYb5rBuo6PnhvGkVjnMggUb2azTVLtOO1j8VX5gRLLbW1XxQERX5TD7L8PnIkSPYunVr0ONnzJhx6SMh8jl2+RwyAHS73cmapk0we9XU1FRkZWVFHCKqXr7dA48jtT6lKpcZ6tz+rm0XWOyeH8rObi2zx1gdaDx06FDZ8WCTSktLkxiGRUbkM/ksw2chBFatWhWUGy6XC3fccQf5PAD4HDIA9Pv9UwG4zF519OjRSqPiSINGtqBZOT4c61OqcpmRav0zu9/uAcXhBovK+jVq1CiZU+O6u7ungIqIyGfyWYbPHo8Hx44dC3r8/PnzMWzYMPJ5APA5ZADocrmkuhd6zxmkUuEEjVOmKbB7fUqrLjMSrX8y++14T6rKTKTA0lvZ2dlS58l2QcaYbovERcln8tksn7u6uvDmm28Gfd5BgwZh/vz55PMA4XPIADAQCEwP5806CTSqCp0KpxPsXCe4zEi0/kV6lninlcMLFd1SnbIQFEwH9VMA88J9UfKZfDbL53Xr1qG1tTXo8XfddReSkpLI5wHCZ72fh5oWKYfppJdnVyGM1ABkVS4z1LH9XUulu7TTNUZL2bTqPC04zGmg4gC8DCAnnBcln8lnM3w+deoU3n///aDPO3bsWBQWFpLPA4jP/X0FPN7sBXVdx/Dhw2POTcYSaFS5zHC2/hEscscY1YgRI2TTu4rxX08WAlgJiUmZLYh8Jp8N83n16tXw+XxBj73nnnukWzLJ5+jkc9AAcOnSpS4ZRzts2DC4XC5LD9tXcylBYy9ojDgVmf0M/MIDDatdDPHx8bIzzufC4JriA0DFAJ4Ox4XIZ/LZDJ/37t2LHTt2BD23sLAQ48ePJ58HGJ+D7qivr88BEG/2akOGDIk4haMJNJGem8qoywy2WLlRUEVyzqhYA4tdA40zMzNlTkt0u90jQV3UlwA8avdFyGfy2SifA4EAVq1aFfRZExISsGjRIvJ5APJZDxGxjpO5mt2AUf0inPzlWjjmpjLrMs24T5nWv1D7VbpMgkVd3ZVlRQzrlwAK7bwA+Uw+G9X777+P48ePB92/YMECZGZmks8DkM/KA0DJKHVAgEbW1Rg93sqyRUZdpl2tf0b3q8gngkU5YPIY833adQNYBWC4XRcgn8lnI2zu7OwMOe1LZmYmbrzxRvJ5gPI51NidvHDeZK+bjWjmRwNoVM9NFaz7wEyeyX70YXZ/tIMlkn9E7aq7mqaNA3W5xgBYgZ4vhO0Q+Uw+96s1a9agvb096P7FixcjISGBfB6gfA4VAEpNaaDSYUbCRapM79y5c9i7d69y0JitqLJTDxhxmf3dkx1zRkUzWOxMz+pAYwt1dyzjvT51A4Af2ZQ2+ezQQNApfG5oaMCmTZuC3t+ECRMwc+ZM8nkA81kPceNSn5xkZGQ4nsp2FwghBD7++GM888wzOHToUMRBY6fLVN36N5DBEmlZAEwWqGD6JoCHbGAY+RwjgaBdfH7llVfg9/uD3tOSJUtCspp8jn0+B+2eEEKYBozL5UJycrLjgWAnaJqamrBmzRocPnw46kBjtrJf7mguX/i69+99LYptdJvVfZE4xknHGlVKSgp0XUcgEDB1ngwrBph+A2AngI9UJUg+D7xA0EwaH330Efbs2RP0XubOnYvc3FzyeYDzOU6lq09JSXFMJB3u6D8QCGDTpk3YuHFj0Mk27QCNHVMSyNxfb5Bc/rssWC5ucwpYzJa/SMJC9p6Tk5NDjhnqS7quswUwtJLR81HILABNitIkn228djTz2efz4S9/+UvQ/UlJSbjjjjvIZ/I5ZAA4VAYw4YLGkROtWLFxH6r3n8Tps51IjHdhXHY6Fsweh3uun4g4lxY2cNXW1mLNmjU4deqUo2Aku83IMWZa/1Rsiza3aFb7jrXgraoabNnbgGMnz0EIYNTQVFyXPxoP3DwFqUlxYYFRamqqacCwBdCQxgH4M4CFAPwK0iOfwxBYRiOf169fj5MnTwa9lzvuuAODBw8mn8nnoAGgDiBT5ubCoXVVNfjPFdXw+j5pCvX6Ath5pAk7jzThraoa/PeTNyItOd7WLoeuri68/fbbqK6uDvnSowU0wVzniRMnsG/fPpw5cwZAz1iEyZMnX1qfMFRr30ADi+yxX3jqrSv21zS0oqahFe9UH8VvvnkjhgxKsr1uSQYJQwBoACJvk52tmwH8EMC/WkyHfB6AgaARPp8/fx7vvfde0OtnZ2fjhhtuIJ/J5+ABoNvtzhBCuJwImH3HWvCjP32IgADuuX4ClsybiOwhKWhs6cQr7+7HX8sPYVdNE5763yo89dhc2+5j586deOONN0xF404BjdFJSHfv3o3Vq1fj6NGjfV4jNzcXixcvxpQpU/oMAvv6OdJgMduaEK6m/8+My8JtxXkonDwCI7NSca6jG9X7G/GL1VtxvKkdv3ltB753f6Ht9yFZh+MLCgrSq6urzzLG61c/ALANPV3CUiKfY7tFUBWf+9LSpUsvLQVIPpPPcUEydpBMxtoxwPhyLV+/D/6AwOLrJ+Af7732UqUYl52Of/r8rJ5Fr98/gHeqj+LAwhZMGjNEKQjOnDmD119/HQcPHow4uFQOWL78uNWrV+Ott94KmXZtbS1+/vOf49Zbb8Xdd9/dZ8V02vgQu6Bh9R5+/51bAHzSmpo5KBE3FYzF4NQEPPmL91Cx84ShtM3O06bIYSI5OXkwAAaABl4/gBcB7AGwW7Kskc+RfolRwOfLNX36dEybNu1TnCGfBzaf+5wGxufzJcpcJCEhwdJLMvKCth7qGWd3z/UT+szIpaUTL/28/sNaZQUoEAigqqoKzz77rOXgz2mu9HLQ/OUvfzEMFyEE1q1bhzVr1liaJd6uY+w+1m5Ny+sZvtHV7Q/LvcfHx0ud5/f7E0AZ1SAAqwGky5xMPkeeudHC597n3XvvveQz+dx/AOhyuaQAc7Fp2Uol7S+DzradBwBkD+k7Eh6Z9UkT6e6aZiXQaGhowAsvvIB169ahu7s7ph3n7t27TcMFANatW4e9e/c6DixO+sMio/11LQCAq0alh+Ve4uLkFq4IBAIMAM1pMoA/oqdF0Cxnyeco5EAk+QwALS0t5DP5/On0gh0sc7OyN9fbYfZ33fTUBLScO4+G5g7kjRx8xf4TTZ+MyattbLX0ErxeL95//31s2rRJulm6sbERmzdv7vPaZj7zt+vY3ts0TcMbb7wh/e5Wr16N733ve32mH+7xITLp2j2mxEz6re3d2H74NJ5e+RF0XcPDt04NCzBlgwRd1xNBmdVdAP4JwI/Nwpx8tj8gsOterARRq1evJp/JZ2V8jgtykQSzkw1euIjtFWNaXhY+2H4cq98/iG9+ruCK/SvLDlz6ua1TvrXuwIEDePPNN3H2rLVhTYcOHbq0Gkisq6amBo2NjRg+fLgtYHHKfEx2yv2VFZ/6PW/kYPzHYyUomTbS0LNbHWNiwWHKBoB5AMZH+WuzMr/KU+j5KMRwsw757FzZ2X184sQJUx98kM/kc398jlMJ81A35/P50NDQENo9pqcjPT10U+rn509G+Y4TWP1BT1C1eN5EjMxKRUNzB1aW7cdfPjgEXdMQEAJd581Pt9Xe3o4NGzZg+/btbJ+Q0N69ezFixIiIg8BJbtGKTjS142+bazFh9GCMyOw/zmhra+vXtGRnZwetq7IO0+VyyXQBfxXAMwBcA7jK6ACWAygEcNjOYDsW+Gw16HJi+kbvYd++feQz+ayUz3FBolSpLoZQN9fQ0ID7778/9F+Dr371UwNV+1L+VUPxD0uuwTOvbsWq9w9i1fsHL3O5Gp5YlI9fr9mG1GTjAyaFENixYwfefvttdHZ2MpKTVEtLC92iBXl+tQwAcKbtPI6dPIc15YfwZlUNtuxrxHPfnI8xw9NCnr9u3To8++yzIY9Zvnw5cnJylDpMv99vNii5GsDPB3jwd1FD0PNRyBwAHQZYNeD4HMsy+i6NspV8Jp+N8jkuGl/CknkTMf2qoXjl3QPYevAUmlo7kZwYh2l5Q/HQgs/ApfdUqOGZKSyxDoUZFVoZaYkYnJqAaXlZGJc9CM/+dTt+tWY7/uOxObHyiI8CYATwiWYAeA7AA9H+IOSzc9lKPpPP/QaAmqZJDc7w+4M36WdnZ2P58uUhz++ve6G3Jo/JxL9+oeiKQq1pGl5atwsAMHVclqmKkZ+fj/Hjx7ML2ErFyMgwdBzdpXHdWTIez/51O7Yf6n+pwYULF2LOnNAQuriCS18yso51X3K5XOfN/B0CsIRv9grdD6ASwC/7YdWA43Msy+i4sMzMTMvXIp/J534DQF3Xz8sMMg51c3FxcUGbNVVWIJ8/gNcreobS3HjtGNNppaam4u6778bUqVOVfAQy0EDVe1WQSN9rrKTvv1AXvf7+62RaWhoGDRokfd1QQUI/55kJSoYCGMsa1af+C8AOAEHX8xrIfLYSQDk1faP3MHnyZMvpkM/kc78BoN/v75Yp8DJQUl3Rfrl6K+pPt2Hy2CEo/sxI6XQmTpyIr371q5angRk/fjzy8/OvcMJ9OeNg++w8tvc2TdPw5ptvoqmpKVjLQ8hnzcvL+9QAY6NfRTmlUjtVa8p7/mBOHN2/e7daf2Qdpq7rZloAR4IKpngALwMoAFBPPseeSTZzbO9jsrOzkZubi9pauQm0yWfy2VAAqOt6t8zLlL05s5nzxR+vx50lV6Ho6mwMz0xBV7cf+461YMU7+7Bp53EkJ8bhh18o7jM9MxU0Pj4e8+fPx9SpU7F27VrU19ebfqYRI0Zg9uzZVwRafQVfRv63+5hhw4bh5z//uenKrGka7rnnHmkw2AUPJwEsWPpf/NHfsLA4DzPGD8XIrFQkJ8Sh47wXh4+fxRuVR/B6xREAwOdunGQ7zGQdZiAQMBMADmWcFxobAH4K4PPks7MDNLvuIdgxixcvJp/JZ2V8DtYCeF5mzijZm7v8BfRXOfYda8FPVlT3uS8rPRk//tJcjDcQjRutqNnZ2XjkkUewZcsWvPPOOxFZDcQKNIweI4TAlClTcOutt2LdunWm7u/222/H5MmTQ1ZSVaBxktNUcS+7apqwq6YpuHvTNDxx53Rcnz/a9j9YFhymmUrRAiqU2gD8ewjOks9wRtcs+Uw+RzOf+wwA4+LipMaYWA2MjH56/ttvzsfrFYdRvf8kTp3p+cJs7PBBuH5GDpaWTkJKkvqPm3VdR1FREaZMmYK1a9fiwIEDjnGhKsBycZ8QAnfffTcA4K233jI0UejChQuxaNGiTx3rNNA4uSvjf76/EOs/rMVH+0+ipuEsOrp8SE6Mw8isVFwzYRjuKrkKV40aHJb7kq3DPp/PTAvgCVBBix+ARwDsCnYA+Rx55pLP5HMs8DlYF3CrDGDa29vDEq1Py8vCtLysT7nRvro47ajUGRkZeOCBB7Br1y688cYbpp7Z6WDpfdxnP/tZXH311Vi1alXQMSfjxo3D4sWLr3CWsQIau5zm5cdOGpOJiTkZn9pnZpyOSnV0dEidp+u6ma+lTgI4BWAY470r9J8AXuknr8nnCHXNks/kcyzxuc8AsLy8/ExxcbEPJucJlL05OyuqXZo2bRomTJiAjRs3oqqqSllBsBMsF7cFA8vlP0+ZMgXf//730djYiL179+LMmTOXguApU6ZgxIgRIYHS18995ZNTux5irSvDxjrsraqqOmfi+ACAVQC+xHjvU3oHwPf7O4h8jty9kM/kcyzxORhABHrG6Zhy6FZX0LBj9nE7m/6TkpJw2223Ydq0aVizZg1OnToVMbdoBCxG0rocMgAwfPjwSzDpfdzl7yrYuzMKlXCCxgndE078ak6ylajpAjPM6CUAT6BnTkAKOApgGQAjA/XI5zAfSz6Tz7HI51AjiU+bvUpbW1tMRNlm7yE3Nxd///d/j1tuucX0Ui12VhjZbcGO6f1PNo2BApporQOSDvO0xDlVAH7CuA8A0AVgscl8JJ/DUJ/JZ/I5lvkc10/UaEqdnZ2Oaf4P95gSXddx/fXXY+rUqVizZg0OHz5sq6Psq7vAisu8/Au/3gU51D2EAzTR+OVaNDrNQCAgC5gmyUt+B8BbACZGeQD3fwEMt3D+VwB8aHeeD2Q+q2Qv+Uw+xwqf40I89Gmzlc7v96OzsxMpKSlRAQs7ugmysrLwd3/3d9i2bRvefPNN28BidJ8RsPTeH+x4mYrS32Bjs+7SKaCJ1e6JiwGCSodpQO9e+BfN+paFAPCXAF6UYCL5HOagjnwmn2ONz0EDQE3TpKB+5swZ5YBxuvu8/BhN0zBz5kxMmDDh0uTRTgaLjLuUdZl9uUaCxhlqaZGbnk/TtCZQMvIA+KZknpPPAyTwI5/JZ7v4HGoMYJ3MxZqbm5WCQOWx4U5v0KBBmDJliqV0zO4zU5llxpZYGWti9H4HOmgiBS5ZwAghjjGWM60GAEsAyE7ORz474BjymXyOZj6HCgBrwnmTToncnQwWo5/qm9l/OShCwSPUvQZLRzVoVEIokqCxox5YHSdlITg4wnjOlLwA7gVw3EIa5DP5TD6Tz5b4HDQA1DStJsw3efG6jnWfkQZLf8ebBUtfkDDjLkOdI3MPRvbb4UZjwZWqkIW6WwPKjL4O4AOLnCSfyWfymXy2xOegAaDL5ZJy9SocZqyBRfZrKaNOSxYsRgFhxmWG2mYVNCoHKnOcijrAyLJigOp/APzGaiLkM/lMPpPPVlkRNAAcOXJkPXq6KkypqamJYLFY0FVtU+0ujewLBhYVoFEB42h2pXaDRhIwXZs2bWpgXGdIW9Ez+bVlkc/kM/lMPlvlc9AAcOXKlX5N00wP7j59+jR8Pl9E6BqtA4MjARYZdymzX6a7wa5JSmMNNCrV3d0tBRghRC16lnaj+uE3gHsAdKpIjHwmn8ln8tkqn/V+Tj5k9oKBQACNjY0xB41YBYsRd9kfUOxymQRN+GDU2NiIQMB8HKdp2mHGdv3KD+A+KP5Yhnwmn8ln8tkKn/V+zt8pc7MnTpyw9LBG15wkWOQrqxl3aXSKAbtcJkHT/zFWvzBraJDuxd3B+K5ffQfA32xIl3wmn8ln8lmaz/21AO4I881Gleu0a5qAUJXMSuVU6S4j4TKtTFJqxzQFsdT1IFtnZRkxgPQXAP9lEwfJZ/KZfCafpRnRXwvg9kg4TCdAw27XKOMeneQuneYyVed7OMuME0AjW2cZAIbUXgAPA7DrrwP5TD6Tz+SzPQFgcnLyLgA+mZtVmRGRdot2uMZwg8UOdxlJlymTb3a70Ui5UqvdC0IIWcD4srKy9jLO61NnACwC0GrXBchn8pl8Jp+t8DlkAFhWVtYF4IDZq7a3t+P06dOWHjpc40xUTgVg1r2onjMq3O4yki4zEnNT2d0SIXuM1T/mJ0+eREdHh1QL17p1684z1rtCAQAPADho50XIZ/KZfCafrfBZN5CIVBdPbW2trYR10sBgWbCY2eZUdxlpl2lnnkd6n9FjrDpM2brK7t+g+j8A3gjTtchn8pl8Jp+l+NxvAKhp2ocyF6+pqSFYbASLzPF2uMtwuEzZ4wcaaGRloa5WM9a7QmsB/Hu4LkY+k8/kM/ksy2cjLYCbnACYcA8MdjpYzFRUu92lnS7TjryKBtAYPd+qu7RSVzVNK2e89ykdAPAgwjsxNvlMPpPP5LMUn/sNADMyMqoBdJm9+OnTp9He3h4WsITLbUZyeSCzFdGouwx2DZl/odKRgaOV/AjnskWRcpUqxpe0tbXJLg/Wee7cuY8Z832SlehZ6eNMOC9KPpPP5DP5LMvnfgPAC4MIq2XAcOSItYnvg0XPkQKLnS7TSkWy4i77g40Vl9lfhTB7704ATbjdaH/HWHWYhw9LL+SxedeuXd2M+y7pEUhOzGxF5DP5TD6Tz7J81g0mJtXNsG/fPssFtncG2tHNEK4vyYJdS1XFMbOYuFl3aQQmZuDVn+u0Mg7FCZOUWi1T4exesFBHN4G6qJ8AeCWC1yefyWfymXw2zQTHB4AqIne7PytXOWeUmUplxqH1t80sSIweb/T6Vlym3flvpxu1UrattggIIbB//37ZcxkAfqLnI3x98pl8Jp/JZ9N8NhQAer3eCkgMbD579qxtyw45YdCwVQejYmoBI5XS6Ndldkw0agYsVl2mqvwO53xVVvapWF+ytVVqnmJ/fHy8h3GfM0Q+k8/kM/ksw2dDAWB1dfVpAFIDviPRzWA3WKxuUzWnlNUpBYxOE2BligGj92EGmHaDxq5tKvep6F7Yu1d6EY8t5eXlLQy9nCHymXwmn8lnGT7rJhJdJ3Mnsk2Y4YBHtILFSe7SyS7TSaAJ96Bkm//4v8Wwy3Ein8ln8pl8NsVn3Y5Ee+vw4cNoa2uzhXhO/FosHGBxkruMBpfpBNDY4UatqL29XXqGeU3T1oFymshn8pl8Jp9N8dlwADhmzJhKAM1mbyYQCGDXrl2WM8RKN0MsgcWJ7jJaXCZB84m2bduGQEBqvuLTHo/nQ1COEvlMPpPP5LNZPhsOAFeuXOkHsEHmjrZv326bowznNAFOAIsT3WW0ucxIgUbV8SrGl1iok39DeFe6oMhn8pl8Jp9t4LNuMnGprp9Dhw4p72aI9LgSq1+VxZq7jEaXacc7jgZ32draKr28kBDibwy3HCvymXwmn8lnwzIVAHq93rUAfDKFbseOHZYzRtO0iHcvqJxMNJbcZTS7TDumiFD5h001aLZv3y6bllfX9TcYZzlT5DP5TD6Tz7YFgNXV1ac1Tdsoc2fbtm2zDXx2zQ8V7jmjot1dxrLLlPmDYsf4FBXdC7J1UdO0tz0eTzMoR4p8Jp/JZ/LZtgDwgqSWPDpy5AhOnjyp1GVGar6gSIAl0u7SyrHR5DJVOUrV21SNLTl16hSOHTsme3oklzujyGfymXwmnxXWfdMBoMvlWg1AahH4Dz+07+PBWAaLE9yl6uOd6jKdPkmpVVVWVsqmf767u3sN4ytni3wmn8ln8tm2APDCDNMbZAHj9/uVuMyBBBYjFc0oaMy6S7MgUeEyjSxGHo48jzXQ+Hw+fPzxx7J17q3q6uqzDLGcLfKZfCafyWfbAkDZpkagZ3LD3bt3D1hHafVcM5XQSIU2AhGZQcVGrhNqe3/wieQ7iBRoVHQv7Ny5E+3t7QhnnaciIvKZfCafyWd7AkCv1/tXAFJ3WlVVpZx2TgSLkfsMl7sMtT0YRGTegRmX2d92O1ym6j8UkZqkVFZbtmyRPbUtMTHxNcZV0SHymXwmn8ln2wLAC02NK2XOPXjwIBobGy1nVrApByI9Z5RV12jFXfZ1jKy7VDG9gIzLNPpsKvNa1n2qKkvhAE1jYyMOHToke/qfy8rK7FkvjFIu8pl8Jp/JZ9sCwAsV/HlZN1heXu4Il2n1HFVuxYy7lBlUbLe7VOEyZQcdqwS5ynev0oWq6F54//33pd+tpmkvMKyKLpHP5DP5TD7bFgB6PJ4KTdOkFpGsrq7GuXPnwuIyVUX8dgw0lm0Wl4WKXe5Shcs0ss3o7yoHJNsJGiPpqIBLW1sbtm7dKnv6Do/Hs5khVXSJfCafyWfy2bYA8IKkIk+/34/KykpVTlc5ROwGSyTcpRMnGnW6y5R533aUQasqLy+Hz+eTrV/PMZyKWpHP5DP5TD7bFgD+EUCXzIkVFRXo7u5WTjy7BxKrKKyRcJf9wcaKs7QyxUA0uEy7y0+wbSrcZXd3t5WB/Z0ul2s546ioFflMPpPP5LM9AaDH42kWQkh9ftzR0WHlq5eoBUusu8tYdpnhBI0KuAA9X3V2dHTInv7yhXnlqCgU+Uw+k8/ks50tgNB1/acApErou+++q8RlXv4ynAwWM18+RaO7HAgu0+7ypQou3d3dKCsrkz4/EAg8zTAqukU+k8/kM/lsWwDo8Xh2QHLm+XPnzsHj8SjJTDMDjiMNlv4Ke7S7y4HiMsPlOGW1adMmtLVJz96ybvPmzdtARXsrIPlMPpPP5LM9AeCFyv0z2XPfe+89nD9/XmmhdjJYQl1D1WLiKt2lWYhE2mVGcn1KFXNTqXKXXV1deP/99yNSpylniXwmn8ln8tm2ANDj8fwNgFQ02t7ejoqKCmUus79oXUUhsXvdSCe5SytLDUXCZcqAJ1wuM5wLi5eXl1sZW7Ld4/FsZOgUM62A5DP5TD6Tz/YEgBf0tBWXaSEzroBMJOaMsttdyoDGiruUcfbhcplWliEK1/uVOVaVu2xvb8cHH3xgpQ79GJLjxijHinwmn8ln8tmeAPDcuXN/AnBU5tzOzk5s2LDBFuo5CSxWHJER8Kh0l6omGbXDZfYHn0i6TJVrk8rq7bffRldXlyxcDnd3d68EFVMin8ln8pl8ti0A3LVrVzeAf5c93+PxKFmDsi+X6QSwhMNdmoFNMIioALoVl2kUNk53mWbLmSp32djYiM2bN1t5f/9fdXW1lyFTbIl8Jp/JZ/LZtgAQALxe70sApFY0DgQCeO2115TdSyjIRKKQhcNdGtlu1zJDVpYbMvs80eQyZQa4W9HatWsRCARkTz+QlJTEiZ9jVOQz+Uw+k8+95VKZ2IkTJwJjxow5A+CzMuc3NzdjzJgxGDp0qNJMvxi9947iI/WzHb/Lbpc9zojLtHKc0e0qf48kaFTl+65du7Bx40Yr9eRr5eXl2xkqxabIZ/KZfCafbWsBBICcnJzlAPZYiZD9fr9SsES6QMlMIdCfg3KiuwyXy1QxAWkky4IdUPd6vVi7dq2VurLL4/G8zDAptkU+k8/kM/lsSwsgAOzevVuMHj26SdO0JTLnd3R0QNM0jB8/XhlkLu/DN/OzUadId2m/yzSyLZwu02o6KvN8/fr12LNnj5X39ZX6+vrdDJFiW+Qz+Uw+k8+2tQACQFVV1csApEc6lpWVKRtw3BsyZgqMkWMj6S5lphkIh7u0w2XatQyRysHistBRoRMnTliaVBRAZVVV1WqGRwND5DP5TD6Tz7YFgACEruv/AMm5anw+H1auXKn8RagadGzHl2VWJhQNVoFlKrjygqDgizOz26xOSKrqj0soZ6lyPM+rr75qpVtOaJr2JDjv30AS+Uw+k8/ks/ou4Is6duxY3ejRoydrmjZd5vzW1lakpKRg7Nixylzm5d0NKgcLyxxn5Her28zsN3OuFTiZcWZWt8ku7q4aSL3holIffPABqqurrSTxx8rKymcZEw0skc/kM/lMPus2c+afALTLnvzWW2+hqalJ6Q31fsGq54uKZXdp97nR4DJVlBmVampqwvr1660k0eZyub7HcGjAinwmn8nnAcxnl52J19fXt+bk5CQAKJU53+/3o7a2FrNmzYKuq4tVrQw6dqq77M9Byjgbo+fILk1kdl80u0zV7jIQCOCll15Cc3OzlWT+j8fjeZNx0MAU+Uw+k88Dm892twDC6/X+JySXIAKAuro6vPvuu8pdZqy5y1DbZR2iimWGZFymke3R5jJVdy28/fbbOHr0qJU6cDgpKem/GAYNbJHP5DP5PHD57LL7AidOnPDm5OTsA3C/bBo1NTWYOHEiMjIylEPGKe7SiuNU7S5lK4NM14MdLtPsMXaDRjVcampq8Oqrr1ptZVm2adOmfQyBBrbIZ/KZfB64fHaFAzJ1dXUHrQw4FkLg0KFDmDVrFuLi4qIWMjK/mwWNEUCoLvCqAGQWOKrnnVINITvg0tXVheeff156MfEL+kNVVdXPGP5Q5DP5TD4PXD7r4SpcPp/v6wBOyZ7f3NyMVatWKR+0KdPd0N9xdi0m3te2/uaWClZZ7VhoXCZ9meeI5GLkkYSLEAKvvPIKzpw5YyWZ0/Hx8d9m2EORz+Qz+Tyw+ewK14VOnDjRkZOTcxLA3bJpNDY2IikpCbm5ubZARnXXAd3lwHaZqvO6rKwMHo/Hall/bNOmTVUMeSjymXwmnwc2n13hLFx1dXXbxowZMweA9DpCBw4cQG5uLrKysqICMnaCxips7IaO1eWGQu2ze9khp8Hl4MGDWLlypdVk1lVWVn6X4Q5FPpPP5DP5rIcbMi6X6zEhxBkrhXbFihU4e/as8nvrr7shkouJ99fc7qRlhlQtN2Q2D/rLPzMwsbLSgGq4nDlzBn/605+sdgM1CyEeZ5hDkc/kM/lMPoe9BRAAjh49ejYnJ+eQpmn3yqbR3d2N2tpaFBQUKJ1/yojTpLukywy2T+USQhfl8/nwu9/9TsWEu39XVVXlAUWRz+Qz+Uw+A4jYgAO32/1HIcSDVtLIz8/HfffdZ0sl6WuQaDgnFDULFbvHlrR3ebHy3X0o+/gYjp5sRUeXD8MzU1A4JRt3zZ2A/PHDlILHDFSMgEI1TPorK6rK4IoVK7B161ar6fy+qqrqEYY3FPlMPpPP5HPEA8DS0tK0rq6ujwBMtJLOjTfeiAULFtjmjiLtLs26Tjvc5baDp/DtX5ehuTX4p+0fPv9g2F1mOAYdRwouAPDmm2/ivffes5rMIZfLNXPTpk3nGNZQ5DP5TD6TzxcVFynAlJWVtc2ZM+f+QCCwCUC8bDobN27E4MGDUVxcrD467jXm5GIh6l2gQu0z+vvl5/dV8fva3rug97cQeLAKYKTiH6hrwVd/vgFd3T7MmTYKD9zyGVydm4WkhDg0NLfDs+s41pQfVL7ckFmXGalliOyCy+bNm1XAxSeEeIDBH0U+k8/kM/l8RR2KNGiKi4t/AOD/WknD5XLh4YcfxqRJk2xzmna7S6vb7HCXQgjc/3/fxIG6Fnzuxin41rJZlvMwVlymnWNz9u/fjxdffBGBQMBqUt+trKz8McMZinwmn8ln8vmKuhlpwNTV1X2Qk5MzHcDVVgrv7t27MWHCBAwePNgWp9nX4GOr0FEBFTvGllw8p2Lncfxpwx6MHpqGn321FC5dUwKRWHCZdgHm6NGjePHFF+Hz+ayW2TWVlZVfZwhDkc/kM/lMPvcl3QGMES6X62EAe6wkcv78ebzwwguor6+37UYvn4agr8Jo12LiqmaVN1rphRB4p7pnMes7S8YjzqWFfdFxlQuPy7yfYONJ7ILLiRMn8OKLL6K7u9uySe3u7v4CAAGKIp/JZ/KZfO6rzjiFMm63e4oQYjOAQVbSSU1NxZe+9CUMHz7cPiJKdDmodpx2uMvLj//cv63FkRNn8fvvLkAgIPCHt3Zh+6HT6Oz2ISs9CQWTR+Dz86dgYk6mJacZbpcpuxi5nd0Kp06dwm9+8xu0tbVZTarN7/cXb9myZRdjF4p8Jp/JZ/I5mFxOAUxdXd3p0aNHH9E0bYmVdLxeL3bt2oWpU6ciJSXFNqdpFBrhgoqRwm+2gvzmte3o9vqRM2wQfvhiBWobWnHe64c/INDW6cX+Yy1YU34QWelJmDJ2iDKgmIWKStiEu0sB6JlI9LnnnkNra6vlv32apj1YVVVVxpCFIp/JZ/KZfI6KABAA6uvrd44ZMyYNwBwr6Zw/fx579uzBZz7zGSQnJ9sGGSPjTqLBXQY79td/3QYBoHpfIwSAJaWT8MOH3fjaPddgYVEeAgGBPbXN2LTzONxTR2F4Roq003Sqy7SzSwEAmpqa8Nxzz1ldQPzie/yxx+P5b4YrFPlMPpPP5HNUBYAXnOY7VgcdA0BnZyd27NiByZMnIy0tzbb7DTbFQLS7SwD43/V74PMHeuAybyK+tWwWMtISEefSkZGWiJLpo9Dc2oXdNU1obe/G/IKxMeUy7Z6F/9SpU8rgAmBlZWXlV8BxfxT5TD6Tz+SzAekOZExA07QHhBCWl0VpbW3Fc889h+PHj9t+0xfdpl2DjI1sNzPY2MjA4MGpiZd+XlLa9xQOS0t75ondduiU5esaXYPSyHYrg4ztdpUAcPz4cfz6179WtWbqFq/X+zCAACiKfCafyWfyOUoDQHg8nk6fz3cngINW02pra8Nvf/tbHD16NCyQMepgzGwzs8C4UeD0BwAhBHJHfDLee0Rmcp/HZA/p6VZobe82DTArX5wZXXg81LZIuMoLrSh4/vnn0d7erqLMHdZ1/Y7q6uoOxiYU+Uw+k8/kc1QHgABQXV19WtO0RQBarKbV1dWFF154Afv37w8LZIy4TVl3GaqimXGXRnTNxE++1Gto7rv8nmhqv8KNWrmHUMfYMf1AOF0lAOzbtw+//e1v0dGhhAfNuq7fVlFRcZJhCUU+k8/kM/lsRi4nQ6auru70qFGjKjRN+xwsLEcEAH6/H1u3bkVaWhpycnLCCpq+nIuqAcV2LjI+LCMZq94/CCF65guaM23UFY7s+bU7sfdoM+ZMHYUbZprPV9nBxaH2mRlXEi6wAMCWLVuwYsUKy5OIXlC7pmm3VVRUbGU4QpHP5DP5TD7HVAAIAPX19UdzcnI2A7gXCtYu3rt3L7q6ujBx4sSwFKxQUxLIQCWci4ynpySgqbULe482Y8/RFrSc68LIrFQkJbhQd6oNL7yxE38tPwSXruEHDxVh6OBkSzBRDZVQsAknWIQQeOedd7B27Vqp2fj7UDeAxZWVle8yDKHIZ/KZfCafpcp/tICmqKjoLk3TVlp1mheVn5+Pe++9F/Hx8WF7hlDjGJzmLi+e2+3z41u/+gAf7mvs87g4l47v3jcLC4vGWc6XcLnMcIHlYsvGyy+/jG3btilLUgixrKqq6lWGHxT5TD6Tz+SzrFzRApj6+vp9o0eP3qNp2mIoGLvY2NiIffv2YdKkSbbNRdVXpQ3V7eAkd3mpgOgaFhTmYlhGMs51etHe5YUAMDwjBdfPGI0fPDgbs6/OVgYTu11mOOFy9uxZ/P73v1c5timgadqDlZWVrzDkoMhn8pl8Jp8tlfloA01xcfGjAJ5Tde+pqam47777MGHChLA/S38FPxLu0moFlG1CV+0yI+Eme+vw4cNYvny5iqWDLj2SpmmPeTye3zHcoMhn8pl8Jp+tyhVtgKmrq/to9OjRhzRNu1OF0/R6vfj4448RFxeH3NzcsBbIvsY5OMldhgOsdrrMSDyvEAIVFRVYsWIFzp8/rypZv6ZpjzP4o8hn8pl8Jp8HbAAIAPX19dtHjx59QNO0u1Q9w8GDB9HY2IhJkyYhLi4urM9zETRGuh/scpeqK6OM01TlMsM5gLi3urq68Oc//xnl5eWqBhNfhMsXPR7PSwwvKPKZfCafyWdlZTuaQeN2u+8QQqwEkKQqzYyMDCxbtgx5eXmOcWCx5C7tcpmRfr6jR49ixYoVaGpqUplst6Zpyzwez18YVlDkM/lMPpPPDAB7qaio6AZN014DoGxBSU3TMG/ePNxyyy1wuVyOqoyq3aXdFdOs0zLqMp0CzEAggI0bN2LDhg0qXSUAdAghPltVVfU2QwmKfCafyWfymQFgH5o9e/Z1uq7/FcAQlemOGTMGy5Ytw9ChQx3pzOxaZNxpTtNpULmolpYWrFixAjU1NaqTbtI07U6Px1PBEIIin8ln8pl8ZgAYQm63e4IQ4g0Ak1Smm5CQgPnz52PevHmOb6Y3c3/hfhYz7svKc4XLVW7ZsgVr165Fd3e32gqpaYcB3O7xePYydKDIZ/KZfCafGQAac5pZF5zmXNVpjxo1CkuWLMHo0aOjxq053V1G432fOHECq1atwrFjx+xIvlLX9bu4ti8ViyKfyWfy2VlyIYZUX1/fOX369D91dXVNADBNZdrnzp3Dli1b4PV6kZeXB13XHff8vb9Wu/h7X84uUhU42L1c/s+J8vl82LhxI1555RWcOXPGjkus0jTtbo/Hc5ahAhWLIp/JZ/LZYWUyRlmjFxUV/UjTtG/bkfiwYcNw++234+qrr46qTLm4xmKoCi8DIiPdB9HidvvSrl27sHbtWjQ3N9vyWjRN+7HH4/keAAGKin2Rz+Qz+cwA0F5dWJ/yjwDS7Uh/woQJWLRoEbKzsxHram1txRtvvAEAuP3225Genh7zz3zq1Cm8/vrr2Ldvn12XaLswh9RKxgTUQBP5TD6TzwwAbVVJSclkv9+/GsBnbLGyuo7CwkIsWLAAqampMZuPdXV1uP/++wEAy5cvR05OTsw+a0dHB9555x1UVFQgEAjYdZn9uq4vrqio2MlQgBqoIp/JZ/I5copDjGvTpk37SkpKiv1+/4sAFqtOPxAIoKqqClu3boXb7cYNN9yApKQkUNGn7u5uVFRU4N1330VXV5edl3o9KSnpobKysjPMdWogi3ymyGcGgHZD5hyApcXFxf8M4P/Y8dznz59HWVkZNm/ejJKSElx33XVITExkrY0SsGzZsgUbN25UuTh4X/IC+EFlZeVPwPF+FEU+U+QzA8CwSFRWVj7ldrs3CCGWA5hgx0U6Ojqwfv16VFZWorS0FLNnz0ZCQgJrsUPBUlVVhbKyMrvBAgA1AB6orKzcxJynKPKZIp8jLW0gFqySkpJBgUDgp0KIx+2+VlJSEmbNmoV58+ZF9cDcWBpj0tbWhsrKSmzatAkdHR32VzJN+5/ExMSvlJWVtYGiKPKZfCafHaA4DEBd6HJ4oqio6G1N056D4iWKequrqwvl5eWorKxEfn4+SktLMWLECFI+Ajp9+jQ8Hg+qqqrg9XrDccmzmqZ92ePx/Jm5T1HkM0U+MwB0iKqqqlYVFhZudrlczwG41c5r+Xw+fPTRR/j4448xfvx4zJ49G9OmTXPEYuaxLL/fjx07dmDLli04dOiQ6gXBQ+lNIcQTlZWVdXwLFEU+U+QzA0CHacuWLccALHS73UuFEM8CGGbn9YQQOHjwIA4ePIikpCTMmDEDbrcbI0eOJA0U6tSpU/jwww+xZcsWtLe3h/PSzUKIf66qqnqOb4GiyGeKfHaqNGbBJ5o7d26m3+//UTjGnlyucePGYcaMGZg+fToGDRrkuLzx+XxoaGgAAGRnZyMuznneobW1FTt27MC2bdtQW1sbiVtYGR8f/9UPPvjgFGsTRZHP5DP5zAAwylRcXLwQwK8AjAv3tXVdx9ixY5Gfn4/8/HxHwsZJ6ujowN69e7F9+3bs27fPzolBg1ciTTscCAS+XFVV9TbfCEWRzxT5zAAwiuV2u5OFEF8H8H0AEanlmqYhLy8PkydPxqRJkzBy5MioXrNRhYQQaGhowN69e7Fv3z7U1NSEc9zIFXwD8JOkpKQflZWVdbHWUBT5TD6TzwwAY0QlJSWjAoHAD4UQjwLQI3kv6enpmDRpEiZPnoyrrroKaWlpA+IdtLW14fDhw9i3bx/279+P1tbWiHMOwKtxcXHfKi8vP8paQlHkM/lMPjMAjFHNnj17lq7rTwMocco9paenIzc3F3l5ecjNzcWoUaOg63rU53VTUxNqa2tRU1OD2tpaNDY2RtJFXq4tmqb9g8fjqWCtoCjymXwmnxkADpD8crvdS4QQ/wabFi+3opSUFIwaNQrZ2dkYOXIksrOzMWLECMTHxzsyM7u7u3Hy5EmcOHECDQ0NaGhowPHjx8My+afpF69puwKBwA+rqqpWg8u4URT5TD6TzwwAB6R0t9u9WAjx7wAmOfoFaxqGDh2KIUOGYMiQIcjMzERmZualn1NTU229fltbG86cOYOWlhY0NzejubkZLS0taGpqQlNTk5OcYzAdEUL8aOzYsb9buXKln0Wfoshn8pl8ZgBIXQTNU7Bp7cpwACg1NRUpKSlISUlBamoqkpOTER8ff2mx9ISEBLhcrksDnIUQ8Pv96O7uBtCz0LrX60VnZyfa29vR0dGBjo4OtLe3RwNAgqlWCPFUcnLy78vKynws6hRFPpPP5DMDQOpTKigoiI+Li1umado3AcxgjkS1PgbwM6/X+0p1dbWX2UFR5DNFPjMApPpVUVHRXE3TvgPgduZvVGkTgB9XVlauBceQUBT5TJHPDAApGbnd7ulCiH8EsAxAEnPEkeoC8Gdd1/+roqJiJ7ODoshninxmAEgpUUFBweC4uLjPAfiypmnXMEccoT0A/uD1en9XXV19mtlBUeQz+Uw+MwCkbFNRUVGBruuPCyHuA5DGHAmrOgGsBfBcZWXlBmYHRVHkM/nMAJAKq0pKSgb5fL67NE37HIBbACQwV2zReQB/A/BKUlLSmrKysjZmCUVR5DP5TDEAjLhKS0szzp8/f6cQYilho0R+AJVCiJU+n285uxAoiiKfyWeKAaCj5Xa7hwC4IxAI3Kpp2i0AspgrhnQawNtCiHW6rr/p8XiamSUURZHP5DPFADAapRcVFc3UNO0mADcBKAUQx2wBAATQMx/UBgAbkpKSyjgZKEVR5DP5TDEAjFX3OQc9i52XCCEKMXCmL+jUNO3DQCBQLoTYlJCQUFFeXt7CUkFRFPlMPlMMAAeUpk6dmjB48OACv98/R9O0QgDT0bPuZbS7UJ+mafuEEDuEEB+6XK6Ks2fPVu/ataubb52iKPKZfKYYAFJ9QCc9PX0qgOmBQGAagHxN0/IA5AJIdNjtngdQC+CwEGIHgB0ul2vH2bNndxMmFEWRz+QzxQCQUvCe3W73qEAgkAdgHIA8XddzhBDDhBBZuq5nCSGy0DOoOd7itbwAmjRNawoEAk2apjVpmnZKCHFMCFGjadoRl8t1ZNOmTSfAJX0oiqLIZ4oBIBV5FRQUDNZ1/eLXbcm6ricBgKZpmb2PE0K0AEAgEOhCzySe0HX9dFVVVStzkaIoinymKIqiKIqiKIqiKIqiKIqiKIqiKIqiKIqiKIqiKIqiKIqiKIqiKMqi/h8l3qe4qdc/AwAAACV0RVh0ZGF0ZTpjcmVhdGUAMjAyMi0wMi0xM1QyMjoyMDoxNiswMDowMI4yK7EAAAAldEVYdGRhdGU6bW9kaWZ5ADIwMjItMDItMTNUMjI6MjA6MTYrMDA6MDD/b5MNAAAAAElFTkSuQmCC)"
   ]
  },
  {
   "cell_type": "markdown",
   "metadata": {},
   "source": [
    "Note que neste relógio não temos o valor 12, e sim 0. O valor 12 é chamado *módulo*. Neste exemplo, 9h mais 4h é igual a 1h (módulo 12). Em aritmética modular, de um jeito informal,\n",
    "\n",
    "$$\n",
    "(9 + 4)\\ \\text{mod}\\ 12 = 1.\n",
    "$$"
   ]
  },
  {
   "cell_type": "markdown",
   "metadata": {},
   "source": [
    "Nos computadores, os valores inteiros fazem a mesma coisa. Um tipo inteiro positivo de 32 bits pode conter números de $0$ até $2^{32}-1 = 4294967295$. Se uma operação resulta num múmero maior que este, o valor resultante \"dá a volta\", como acontece no relógio.\n",
    "\n",
    "Este comportamento dos números inteiros é mascarado em Python. Os tipos inteiros (`int`) são mais elaborados, e virtualmente ilimitados, logo a aritmética modular não se aplica automaticamente. Devemos usar o operador módulo `%`. Repetindo a operação do relógio,"
   ]
  },
  {
   "cell_type": "code",
   "execution_count": 2,
   "metadata": {},
   "outputs": [
    {
     "data": {
      "text/plain": [
       "1"
      ]
     },
     "execution_count": 2,
     "metadata": {},
     "output_type": "execute_result"
    }
   ],
   "source": [
    "(9 + 4) % 12"
   ]
  },
  {
   "cell_type": "code",
   "execution_count": 5,
   "metadata": {},
   "outputs": [
    {
     "name": "stdout",
     "output_type": "stream",
     "text": [
      "[0]\n"
     ]
    }
   ],
   "source": [
    "import numpy as np\n",
    "\n",
    "x = np.zeros(1, dtype=\"uint32\")\n",
    "x[0] = 2**32 - 1\n",
    "x[0] += 1\n",
    "print(x)"
   ]
  },
  {
   "cell_type": "markdown",
   "metadata": {},
   "source": [
    "### Geradores congruentes lineares (LCG)\n",
    "\n",
    "Voltando aos números pseudoaleatórios. O LCG é definido através da relação de recorrência\n",
    "\n",
    "$$\n",
    "x_{k+1} = (a x_k + c)\\ \\text{mod}\\ m,\n",
    "$$\n",
    "\n",
    "onde $a$, $c$ e $m$ são constantes inteiras, e $x_k$ são os números inteiros gerados pelo LCG. O valor inicial $x_0$ é chamado de *semente*. Dependendo da semente e dos parâmetros $a$, $c$ e $m$, temos várias sequências possíveis. A maioria das combinações de parâmetros produzem sequências pobres, que não passam em testes de aleatoriedade (como o [teste espectral](https://en.wikipedia.org/wiki/Spectral_test)). Entretanto, alguns conjuntos de parâmetros geram sequências que são muito parecidas com uma sequência de número aleatórios. Veja o artigo por [Steele & Vigna (2001)](https://arxiv.org/abs/2001.05304) para entender como esses \"números mágicos\" podem ser encontrados."
   ]
  },
  {
   "cell_type": "markdown",
   "metadata": {},
   "source": [
    "Um conjunto particular de parâmetros é $a = 166452$ e $c = 1013904223$, com $m=2^{32}=4294967296$. O número $m$ dita a faixa de valores possíveis, com $0 \\leq x_k \\leq m-1$. Entretanto, podemos facilmente mudar a faixa de valores, fazendo uma reparametrização. Por exemplo para ter valores de ponto flutuante $y_k$ com $0 \\leq y_k < 1$, podemos fazer simplesmente $y_k = \\frac{x_k}{m}$.\n",
    "\n",
    "Vamos gerar aguns números dessa sequência, e ver como eles se distribuem."
   ]
  },
  {
   "cell_type": "code",
   "execution_count": 23,
   "metadata": {},
   "outputs": [],
   "source": [
    "import numpy as np\n",
    "\n",
    "m = 2**32\n",
    "a = 1664525\n",
    "c = 1013904223\n",
    "\n",
    "N = 100\n",
    "r = np.zeros(N, dtype='uint32')\n",
    "\n",
    "# Semente.\n",
    "r[0] = 1\n",
    "\n",
    "for k in range(N-1):\n",
    "    r[k+1] = (a * r[k] + c)"
   ]
  },
  {
   "cell_type": "code",
   "execution_count": 26,
   "metadata": {},
   "outputs": [
    {
     "data": {
      "text/plain": [
       "array([         1, 1015568748, 1586005467, 2165703038, 3027450565,\n",
       "        217083232, 1587069247, 3327581586, 2388811721,   70837908,\n",
       "       2745540835, 1075679462, 1814098701, 2536995080, 3594602695,\n",
       "       1009643386, 4212701329, 3697481916, 1403919595, 2931756366,\n",
       "       2282599509,  927463856,  448971087,  302988898, 1369582169,\n",
       "        557551588, 3037600243, 2503481014, 1629134493, 1129353048,\n",
       "       3225111255, 3997329994,  761386273, 1435167756, 4222990331,\n",
       "       1668959518, 2353844709, 2001984000, 4270654815, 3758297906,\n",
       "       3055474921, 4113419572, 4187559683,  665538694, 1598909997,\n",
       "       2947053992,  702419175, 2113984794,  746870193, 2543113052,\n",
       "       3744487179, 1420083438,   82416501, 4084797008,  991464815,\n",
       "       3571407874,  111242105, 1648664196,  200775699, 1484013142,\n",
       "        563241405, 3477354488, 1751816951,  632699882, 2624141889,\n",
       "       3411398316, 4008639003,   47933630,  131922181, 4284257952,\n",
       "       3452328319, 1955666130, 1681056265, 2884961236, 4145716515,\n",
       "       3150962726, 2097314125, 1785252424,  627173639, 3874460346,\n",
       "       3208217297, 2732776956, 2483200299, 2314945678,  224395925,\n",
       "       1810068208, 2419550607, 4064627106, 1444691097, 3337878820,\n",
       "       1177757235, 3912971766, 4042699997, 1855664280, 1854208791,\n",
       "       1517936010,   90058593, 2844852556, 3216788539, 1898009694],\n",
       "      dtype=uint32)"
      ]
     },
     "execution_count": 26,
     "metadata": {},
     "output_type": "execute_result"
    }
   ],
   "source": [
    "r"
   ]
  },
  {
   "cell_type": "code",
   "execution_count": 27,
   "metadata": {},
   "outputs": [
    {
     "data": {
      "image/png": "[encoded data removed]",
      "text/plain": [
       "<Figure size 640x480 with 1 Axes>"
      ]
     },
     "metadata": {},
     "output_type": "display_data"
    }
   ],
   "source": [
    "import matplotlib.pyplot as plt\n",
    "plt.style.use('ggplot')\n",
    "plt.rcParams['font.family'] = 'serif'\n",
    "plt.rcParams['mathtext.fontset'] = 'stix'\n",
    "fig, ax = plt.subplots()\n",
    "ax.plot(r / m, 'o')\n",
    "plt.show()"
   ]
  },
  {
   "cell_type": "markdown",
   "metadata": {},
   "source": [
    "Podemos visualizar melhor o resultado fazendo um histograma. Veja abaixo uma amostragem de $100$ números aleatórios. Modifique para $1000$, e $10000$ números. Se o PRNG é bom, quanto mais números tomarmos, mais a distribuição deve se aproximar de uma distribuição plana."
   ]
  },
  {
   "cell_type": "code",
   "execution_count": 36,
   "metadata": {},
   "outputs": [
    {
     "data": {
      "image/png": "[encoded data removed]",
      "text/plain": [
       "<Figure size 640x480 with 1 Axes>"
      ]
     },
     "metadata": {},
     "output_type": "display_data"
    }
   ],
   "source": [
    "# O estado atual do PRNG fica guardado numa variável global.\n",
    "# Semente = 1\n",
    "_estado_LCG = 1\n",
    "\n",
    "def randint_LCG():\n",
    "    # Precisamos escrever numa variável global.\n",
    "    global _estado_LCG\n",
    "    \n",
    "    m = 2**32\n",
    "    a = 1664525\n",
    "    c = 1013904223\n",
    " \n",
    "    _estado_LCG = (a * _estado_LCG + c) % m\n",
    "    return _estado_LCG\n",
    "\n",
    "m = 2**32\n",
    "N = 1000\n",
    "r = np.zeros(N)\n",
    "for k in range(N):\n",
    "    r[k] = randint_LCG() / m\n",
    "    \n",
    "fig, ax = plt.subplots()\n",
    "ax.hist(r, bins=20, range=[0, 1],\n",
    "        density=True, histtype='stepfilled', label=f'N = {N}')\n",
    "ax.legend()\n",
    "ax.set_ylim(0, 1.9)\n",
    "ax.axhline(1, ls='--', color='k')\n",
    "\n",
    "plt.show()"
   ]
  },
  {
   "cell_type": "markdown",
   "metadata": {},
   "source": [
    "Repare que, dada uma determinada semente, o PRNG vai produzir sempre a mesma sequência. Execute a célula acima algumas vezes para se convencer disso. Depois, mude `_estado_LCG = 1` para outro valor e e execute novamente a célula. Os histogramas são completamente diferentes. Isto é, lembre sempre de mudar a semente a cada vez que rodar o seu programa, por exemplo usando a data do computador. Por exemplo:"
   ]
  },
  {
   "cell_type": "code",
   "execution_count": 37,
   "metadata": {},
   "outputs": [
    {
     "name": "stdout",
     "output_type": "stream",
     "text": [
      "1698703318\n"
     ]
    }
   ],
   "source": [
    "import time\n",
    "t = int(time.time())\n",
    "print(t)\n",
    "semente = t"
   ]
  },
  {
   "cell_type": "markdown",
   "metadata": {},
   "source": [
    "### LCG truncado\n",
    "\n",
    "Outro problema, específico do LCG é que um número nunca se repete. Sequências naturais de números aleatórios têm uma chance de ter números repetidos. Pegue um dado de veja quantos $6$ seguidos você consegue. No LCG, quando $x_k$ voltar a ser o valor da semente, por exemplo, sabemos que a sequência toda vai se repetir. Isto é, a sequência é periódica. Dados suficientes passos, todo PRNG vai repetir a sua sequência. O número de passos necessário para isso é chamado de *período* do PRNG. Na melhor das hipóteses, todos os números do intervalo $0 \\leq x_k \\leq m-1$ serão visitados, e o períodos nesse caso é $m$."
   ]
  },
  {
   "cell_type": "markdown",
   "metadata": {},
   "source": [
    "Para atenuar este problema de repetição de números, vejamos agora uma modificação do LCG, chamada de LCG truncado, ou TLCG. Neste caso, geramos uma sequência de PRNG com um módulo maior do que os números que queremos gerar, e usamos os seus valores truncados pelo módulo desejado. No exemplo abaixo, geramos um PRNG com módulo 16, mas usamos somente o dígito menos significativo (tomando o resultado módulo 10)."
   ]
  },
  {
   "cell_type": "code",
   "execution_count": 43,
   "metadata": {},
   "outputs": [
    {
     "name": "stdout",
     "output_type": "stream",
     "text": [
      "(1) Estado interno (mod 16): x = 06,     número aleatório (mod 10): 6\n",
      "(2) Estado interno (mod 16): x = 15,     número aleatório (mod 10): 5\n",
      "(3) Estado interno (mod 16): x = 12,     número aleatório (mod 10): 2\n",
      "(4) Estado interno (mod 16): x = 13,     número aleatório (mod 10): 3\n",
      "(5) Estado interno (mod 16): x = 02,     número aleatório (mod 10): 2\n",
      "(6) Estado interno (mod 16): x = 11,     número aleatório (mod 10): 1\n",
      "(7) Estado interno (mod 16): x = 08,     número aleatório (mod 10): 8\n",
      "(8) Estado interno (mod 16): x = 09,     número aleatório (mod 10): 9\n",
      "(9) Estado interno (mod 16): x = 14,     número aleatório (mod 10): 4\n",
      "(10) Estado interno (mod 16): x = 07,     número aleatório (mod 10): 7\n",
      "(11) Estado interno (mod 16): x = 04,     número aleatório (mod 10): 4\n",
      "(12) Estado interno (mod 16): x = 05,     número aleatório (mod 10): 5\n",
      "(13) Estado interno (mod 16): x = 10,     número aleatório (mod 10): 0\n",
      "(14) Estado interno (mod 16): x = 03,     número aleatório (mod 10): 3\n",
      "(15) Estado interno (mod 16): x = 00,     número aleatório (mod 10): 0\n",
      "(16) Estado interno (mod 16): x = 01,     número aleatório (mod 10): 1\n",
      "(17) Estado interno (mod 16): x = 06,     número aleatório (mod 10): 6\n",
      "(18) Estado interno (mod 16): x = 15,     número aleatório (mod 10): 5\n",
      "(19) Estado interno (mod 16): x = 12,     número aleatório (mod 10): 2\n",
      "(20) Estado interno (mod 16): x = 13,     número aleatório (mod 10): 3\n"
     ]
    }
   ],
   "source": [
    "x = 1\n",
    "m = 16\n",
    "a = 5\n",
    "c = 1\n",
    "for i in range(20):\n",
    "    x = (a * x + c) % m\n",
    "    print(f'({i+1}) Estado interno (mod {m}): x = {x:02d}, \\\n",
    "    número aleatório (mod 10): {x % 10}')"
   ]
  },
  {
   "cell_type": "markdown",
   "metadata": {},
   "source": [
    "Repare como a sequência de números aleatórios tem um período de 16, maior do que esperado com um LCG comum de módulo 10. Também podemos ver números repetidos (5 aparece duas vezes) antes que a sequência reinicie."
   ]
  },
  {
   "cell_type": "markdown",
   "metadata": {},
   "source": [
    "Na prática usamos módulos muito maiores para o estado interno de TLGCs, como $2^{96}$ ou $2^{128}$. O resultado é um PRNG com um custo computacional um pouco maior, porém gerando uma sequência muito mais realista. Um gerador muito bom com estado interno de módulo $2^{96}$ está programado abaixo."
   ]
  },
  {
   "cell_type": "code",
   "execution_count": 44,
   "metadata": {},
   "outputs": [],
   "source": [
    "# Estado atual do gerador, com semente = 1.\n",
    "_estado_LCG_96 = 1\n",
    "\n",
    "def randint_TLCG():\n",
    "    global _estado_LCG_96\n",
    "    \n",
    "    m = 2**96\n",
    "    a = 0xDC87976860B11728995DEB95\n",
    "    _estado_LCG_96 *= a\n",
    "    \n",
    "    # O operador módulo mantém o estado atual num tamanho de 96 bits.\n",
    "    _estado_LCG_96 %= m\n",
    "    \n",
    "    # Vamos retornar apenas os 32 bits menos significativos.\n",
    "    return _estado_LCG_96 % 2**32\n"
   ]
  },
  {
   "cell_type": "markdown",
   "metadata": {},
   "source": [
    "Veja que este gerador também nos dá uma distribuição homogênea."
   ]
  },
  {
   "cell_type": "code",
   "execution_count": 45,
   "metadata": {},
   "outputs": [
    {
     "data": {
      "image/png": "[encoded data removed]",
      "text/plain": [
       "<Figure size 640x480 with 3 Axes>"
      ]
     },
     "metadata": {},
     "output_type": "display_data"
    }
   ],
   "source": [
    "def rand():\n",
    "    return randint_TLCG() / 2**32\n",
    "\n",
    "_estado_LCG_96 = 1\n",
    "\n",
    "fig, ax = plt.subplots(nrows=3, ncols=1)\n",
    "for i, N in enumerate([100, 1000, 10000]):\n",
    "    r = np.zeros(N)\n",
    "    for k in range(N):\n",
    "        r[k] = rand()\n",
    "    \n",
    "    ax[i].hist(r, bins=20, range=[0, 1],\n",
    "               density=True, histtype='stepfilled', label=f'N = {N}')\n",
    "\n",
    "    ax[i].legend()\n",
    "    \n",
    "    # Etiquetas no eixo x só do último gráfico,\n",
    "    # pois elas são sempre iguais.\n",
    "    if i < 2:\n",
    "        ax[i].set_xticklabels([])\n",
    "    \n",
    "    ax[i].set_ylim(0, 1.9)\n",
    "    ax[i].axhline(1, ls='--', color='k')\n",
    "\n",
    "plt.show()"
   ]
  },
  {
   "cell_type": "markdown",
   "metadata": {},
   "source": [
    "## PRNGs no mundo real\n",
    "\n",
    "Para usos sérios em simulações físicas, PRNGs do tipo LCG puros (o primeiro que vimos) não são indicados. A versão truncada, por outro lado, é perfeitamente adequada. Outro algoritmo simples e prático é o [Linear Feedback Shift Register](https://youtu.be/QGeLzCmUDDk?feature=shared&t=50), usado geralmente em hardware ou porcessadores sem instruções de multiplicação. Um algoritmo historicamente usado para gerar números aleatórios em aplicações científicas é o [*Mersenne twister*](https://en.wikipedia.org/wiki/Mersenne_Twister). A sua implementação é bastante complicada, e não vamos ver aqui. O Mersenne twister é usado em muitas bibliotecas de linguagens de programação conhecidas, inclusive no python. Vejamos como usar as funções de PRNG do python."
   ]
  },
  {
   "cell_type": "code",
   "execution_count": 57,
   "metadata": {},
   "outputs": [
    {
     "name": "stdout",
     "output_type": "stream",
     "text": [
      "x = 12\n",
      "y = 0.5692038748222122\n"
     ]
    }
   ],
   "source": [
    "import random\n",
    "\n",
    "# Definindo a semente.\n",
    "random.seed(1)\n",
    "\n",
    "# Um inteiro no intervalo [10, 20], inclusive os limites.\n",
    "x = random.randint(10, 20)\n",
    "print(f'x = {x}')\n",
    "\n",
    "# Float no intervalo [0, 1). Nunca é igual a 1.\n",
    "y = random.random()\n",
    "print(f'y = {y}')"
   ]
  },
  {
   "cell_type": "markdown",
   "metadata": {},
   "source": [
    "Podemos também usar funções do numpy, convenientes para gerar arrays de números aleatórios."
   ]
  },
  {
   "cell_type": "code",
   "execution_count": 79,
   "metadata": {},
   "outputs": [
    {
     "name": "stdout",
     "output_type": "stream",
     "text": [
      "[10 15 14 11 15 14 17 16 10 10 19 12 14 15 18]\n"
     ]
    }
   ],
   "source": [
    "# 15 elementos no intervalo [10, 20].\n",
    "# size pode ser uma tupla para arrays multidimensionais.\n",
    "\n",
    "x = np.random.randint(10, 20, size=15)\n",
    "print(x)"
   ]
  },
  {
   "cell_type": "code",
   "execution_count": 87,
   "metadata": {},
   "outputs": [
    {
     "name": "stdout",
     "output_type": "stream",
     "text": [
      "0.5453826129166824\n"
     ]
    }
   ],
   "source": [
    "# 15 elementos no intervalo [0, 1).\n",
    "y = np.random.rand()\n",
    "print(y)"
   ]
  },
  {
   "cell_type": "markdown",
   "metadata": {},
   "source": [
    "Com estas funções é possível fazer quase tudo que precisamos. Existem outras funções de conveniência, veja a [biblioteca do python](https://docs.python.org/3/library/random.html) e a do [numpy](https://numpy.org/doc/stable/reference/random/index.html)."
   ]
  },
  {
   "cell_type": "markdown",
   "metadata": {},
   "source": []
  }
 ],
 "metadata": {
  "kernelspec": {
   "display_name": "Python 3 (ipykernel)",
   "language": "python",
   "name": "python3"
  },
  "language_info": {
   "codemirror_mode": {
    "name": "ipython",
    "version": 3
   },
   "file_extension": ".py",
   "mimetype": "text/x-python",
   "name": "python",
   "nbconvert_exporter": "python",
   "pygments_lexer": "ipython3",
   "version": "3.10.7"
  }
 },
 "nbformat": 4,
 "nbformat_minor": 4
}
