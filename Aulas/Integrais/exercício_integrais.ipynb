{
 "cells": [
  {
   "cell_type": "markdown",
   "metadata": {},
   "source": [
    "# Exercício\n",
    "\n",
    "## Função erro"
   ]
  },
  {
   "cell_type": "markdown",
   "metadata": {},
   "source": [
    "Considere a integral\n",
    "\n",
    "$$\n",
    "\\mathrm{erf}(x) = \\frac{2}{\\sqrt{\\pi}} \\int_0^x \\mathrm{e}^{-t^2}\\ \\mathrm{d}t.\n",
    "$$"
   ]
  },
  {
   "cell_type": "markdown",
   "metadata": {},
   "source": [
    "Note que esta é uma integral definida, sobre a variável $t$, com o limite superior variável. Ou seja, o resultado é uma função de $x$, chamada de *função erro*, que aparece muito em cálculos de probabilidade. Não existe maneira conhecida de resolver esta integral analiticamente. A única forma de resolvê-la é numericamente."
   ]
  },
  {
   "cell_type": "markdown",
   "metadata": {},
   "source": [
    "**a.** Calcule numericamente $\\mathrm{erf}(x=1)$. Escolha você mesmo o método (exceto a regra retangular) e o número de intervalos. Não esqueça de fazer um print do resultado.\n",
    "\n",
    "*Resposta*: $\\mathrm{erf}(1.0) \\cong 0.8427$."
   ]
  },
  {
   "cell_type": "code",
   "execution_count": 1,
   "metadata": {},
   "outputs": [],
   "source": [
    "import numpy as np\n",
    "import matplotlib.pyplot as plt\n",
    "plt.rcParams['font.family'] = 'serif'\n",
    "plt.rcParams['mathtext.fontset'] = 'stix'"
   ]
  },
  {
   "cell_type": "code",
   "execution_count": 9,
   "metadata": {
    "nbgrader": {
     "grade": true,
     "grade_id": "cell-54205ce49d485392",
     "locked": false,
     "points": 2,
     "schema_version": 3,
     "solution": true,
     "task": false
    }
   },
   "outputs": [],
   "source": [
    "def f(t):\n",
    "    return np.exp(-t**2)"
   ]
  },
  {
   "cell_type": "code",
   "execution_count": 19,
   "metadata": {},
   "outputs": [
    {
     "name": "stdout",
     "output_type": "stream",
     "text": [
      "0.8428136301745778\n"
     ]
    }
   ],
   "source": [
    "a = 0.0\n",
    "x = 1.0\n",
    "N = 10000\n",
    "h = (x - a)/N\n",
    "\n",
    "soma = 0\n",
    "for i in range(N):\n",
    "    soma += f(a + i*h)\n",
    "\n",
    "integral = h * (0.5*f(a) + 0.5*f(x) + soma)\n",
    "\n",
    "err = (2/np.sqrt(np.pi))*integral\n",
    "print(err)"
   ]
  },
  {
   "cell_type": "markdown",
   "metadata": {},
   "source": [
    "**b.** Programe a função abaixo tal que ela calcule $\\mathrm{erf}(x)$ para um $x$ qualquer passado como parâmetro.\n",
    "Utilizando a função que você programou, calcule $\\mathrm{erf}(1.0)$. O resultado deve ser igual ao do item anterior."
   ]
  },
  {
   "cell_type": "code",
   "execution_count": 20,
   "metadata": {
    "nbgrader": {
     "grade": true,
     "grade_id": "cell-acef7d7e96fe56b3",
     "locked": false,
     "points": 2,
     "schema_version": 3,
     "solution": true,
     "task": false
    }
   },
   "outputs": [
    {
     "name": "stdout",
     "output_type": "stream",
     "text": [
      "erf(1.0) = 0.8428\n"
     ]
    }
   ],
   "source": [
    "def erf(x):\n",
    "    \n",
    "    a = 0\n",
    "    b = x\n",
    "    N = 10000\n",
    "    h = (b - a)/N\n",
    "\n",
    "    soma = 0\n",
    "    for i in range(N):\n",
    "        soma += f(a + i*h)\n",
    "\n",
    "    I = h * (0.5*f(a) + 0.5*f(b) + soma)\n",
    "    err = (2/np.sqrt(np.pi))*I\n",
    "\n",
    "    return err\n",
    "\n",
    "erf_1 = erf(1.0)\n",
    "print(f'erf(1.0) = {erf_1:.4f}')"
   ]
  },
  {
   "cell_type": "markdown",
   "metadata": {},
   "source": [
    "**c.** Usando a função programada acima, faça o gráfico de $\\mathrm{erf}(x)$ para $-3 < x < 3$, com pontos em intervalos de $0.1$. Não esqueça das etiquetas dos eixos e do título.\n",
    "\n",
    "Compare o seu gráfico com o que aparece na [página da Wikipedia sobre função erro](https://en.wikipedia.org/wiki/Error_function), para saber se o resultado está correto."
   ]
  },
  {
   "cell_type": "code",
   "execution_count": 25,
   "metadata": {
    "nbgrader": {
     "grade": true,
     "grade_id": "cell-d6d79977eb47d70b",
     "locked": false,
     "points": 2,
     "schema_version": 3,
     "solution": true,
     "task": false
    }
   },
   "outputs": [],
   "source": [
    "x = np.arange(-3,3,0.1)\n",
    "comp = len(x)\n",
    "err_f = np.zeros(comp)\n",
    "\n",
    "for i in range(comp):\n",
    "    err_f[i] = erf(x[i])\n",
    "\n"
   ]
  },
  {
   "cell_type": "code",
   "execution_count": 27,
   "metadata": {},
   "outputs": [
    {
     "data": {
      "image/png": "[encoded data removed]",
      "text/plain": [
       "<Figure size 640x480 with 1 Axes>"
      ]
     },
     "metadata": {},
     "output_type": "display_data"
    }
   ],
   "source": [
    "fig, ax = plt.subplots(1,1)\n",
    "\n",
    "ax.plot(x,err_f, color = \"green\")\n",
    "ax.set_xlabel(\"$x$\")\n",
    "ax.set_ylabel(\"$erf(x)$\")\n",
    "ax.set_title(\"Função Erro\")\n",
    "ax.grid()"
   ]
  },
  {
   "cell_type": "code",
   "execution_count": null,
   "metadata": {},
   "outputs": [],
   "source": []
  }
 ],
 "metadata": {
  "celltoolbar": "Create Assignment",
  "kernelspec": {
   "display_name": "Python 3",
   "language": "python",
   "name": "python3"
  },
  "language_info": {
   "codemirror_mode": {
    "name": "ipython",
    "version": 3
   },
   "file_extension": ".py",
   "mimetype": "text/x-python",
   "name": "python",
   "nbconvert_exporter": "python",
   "pygments_lexer": "ipython3",
   "version": "3.10.7"
  }
 },
 "nbformat": 4,
 "nbformat_minor": 4
}
