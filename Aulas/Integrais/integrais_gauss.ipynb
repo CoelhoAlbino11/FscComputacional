{
 "cells": [
  {
   "cell_type": "markdown",
   "metadata": {},
   "source": [
    "# Integração numérica"
   ]
  },
  {
   "cell_type": "markdown",
   "metadata": {},
   "source": [
    "## Métodos de integração de ordens mais altas\n",
    "\n",
    "Vimos na parte 1 como fazer uma integração numérica aproximando a curva de uma função $f(x)$ a uma reta (regra do trapézio), e usando uma curva quadrática (regra de Simpson). Podemos criar regras de mais altas ordens repetindo o raciocínio usado nesses casos. Lembre que *ajustamos* um polinômio a pontos onde passa a função, e calculamos a sua integral analítica."
   ]
  },
  {
   "cell_type": "markdown",
   "metadata": {},
   "source": [
    "A regra geral das regras do trapézio e de Simpson, e de regras de ordens maiores, é\n",
    "\n",
    "$$\n",
    "\\int_a^b f(x)\\ \\mathrm{d}x \\cong \\sum_{k=1}^{N} w_k f(x_k),\n",
    "$$\n",
    "\n",
    "onde $x_k$ são os pontos de amostragem, e $w_k$ são os pesos associados a cada amostragem $f(x_k)$. Na regra do trapézio, o primeiro e o último peso são $\\frac 1 2 h$, e os outros são todos $h$. Já na regra de Simpson, os pesos são $\\frac 1 3 h$ para o primeiro e o último, e alternam entre $\\frac 4 3 h$ e $\\frac 2 3 h$ para os demais. Em ordens mais elevadas, chega-se a conjuntos similares de pesos. Estas ordens mais elevadas são chamadas de fórmulas de Newton–Cotes, mas não vamos nos alongar neste assunto."
   ]
  },
  {
   "cell_type": "markdown",
   "metadata": {},
   "source": [
    "Em vez disso, façamos uma constatação importante que é, se $f(x)$ é uma reta, então a regra do trapézio dá o resultado exato (desenhe os segmentos se não acredita). Do mesmo jeito, a regra de Simpson dá o resultado exato se a função integrada é uma parábola, e se a função é um polinômio de grau $m$, então a $m$-ésima fórmula de Newton–Cotes fornece o resultado exato. Em outras palavras, se tivermos $N$ pontos amostrados de uma função $f(x)$ que pode ser bem aproximada por um polinômio de grau $<(N-1)$, temos um método de integração bastante robusto."
   ]
  },
  {
   "cell_type": "markdown",
   "metadata": {},
   "source": [
    "Podemos fazer melhor que isso. Lembre que os métodos já vistos usam um espaçamento homogêneo entre as amostragens $x_k$. Permitindo que os $x_k$ estejam em posições arbitrárias, temos mais *graus de liberdade* no ajuste de polinômios. Veremos que, mesmo não tendo as vantagens dos métodos vistos na parte 1, podemos conseguir resultados muito mais precisos com um pequeno número de pontos. Um dos métodos que usam esta abordagem é o da *quadratura gaussiana*."
   ]
  },
  {
   "cell_type": "markdown",
   "metadata": {},
   "source": [
    "## Quadratura gaussiana\n",
    "\n",
    "Quadratura é um nome rebuscado para \"integração numérica\". Este método, desenvolvido por Carl Friedrich Gauss, é composto de duas partes. Primeiro vamos derivar regras de integração com espaçamento não uniforme entre os pontos, dado um conjunto de pontos $x_k$. Depois, vamos encontrar qual o conjunto de pontos que nos dará a regra mais otimizada (isto é, ajusta polinômios com o maior grau possível) para a integração."
   ]
  },
  {
   "cell_type": "markdown",
   "metadata": {},
   "source": [
    "### Amostragem não uniforme: polinômio interpolador\n",
    "\n",
    "Suponha que tenhamos um conjunto de $N$ pontos $x_k$ não uniformemente espaçados. Queremos encontrar uma regra de integração conforme a equação acima, isto é, determinar quais os valores de $w_k$ tais que a equação funcione para qualquer função $f(x)$. Para isso, ajustamos um polinômio aos valores $f(x_k)$, e então integramos este polinômio de $a$ até $b$, obtendo assim um valor aproximado da integral. Para ajustar $N$ pontos, precisamos de um polinômio de grau $(N-1)$, vamos usar o método do *polinômio interpolador*. O que vem a seguir pode ser meio abstrato, mas prometo que vai chegar a algum lugar! "
   ]
  },
  {
   "cell_type": "markdown",
   "metadata": {},
   "source": [
    "Considere a seguinte quantidade\n",
    "\n",
    "$$\n",
    "\\phi_k(x) = \\prod_{\\substack{{m=1} \\\\ m \\neq k}}^N \\frac{x - x_m}{x_k - x_m}\n",
    "$$"
   ]
  },
  {
   "cell_type": "markdown",
   "metadata": {},
   "source": [
    "onde $\\prod$ é o produtório, equivalente multiplicativo do somatório. O numerador contém um fator para cada ponto de amostragem, exceto $x_k$. Logo, $\\phi_k(x)$ é um polinômio de grau $(N-1)$. Verifique isso com $N = 3$, e veja que realmente temos um polinômio em $x$. Para valores de $k$ indo de $1$ até $N$, esta equação define $N$ polinômios, com os seus coeficientes dependendo de $k$."
   ]
  },
  {
   "cell_type": "markdown",
   "metadata": {},
   "source": [
    "Se calcularmos estes polinômios $\\phi_k(x)$ sobre um dos pontos de amostragem $x_m$, temos\n",
    "\n",
    "$$\n",
    "\\phi_k(x_m) =\n",
    "\\begin{cases}\n",
    "1 & \\text{se}\\ k = m, \\\\\n",
    "0 & \\text{se}\\ k \\neq m.\n",
    "\\end{cases}\n",
    "$$"
   ]
  },
  {
   "cell_type": "markdown",
   "metadata": {},
   "source": [
    "Por exemplo, para $N=3$, em $k=1$,\n",
    "\n",
    "\\begin{align}\n",
    "\\phi_k(x) &= \\frac{x - x_2}{x_1 - x_2} \\frac{x - x_3}{x_1 - x_3} \\\\\n",
    "\\phi_1(x_1) &= \\frac{x_1 - x_2}{x_1 - x_2} \\frac{x_1 - x_3}{x_1 - x_3} = 1 \\\\\n",
    "\\phi_1(x_2) &= \\frac{x_2 - x_2}{x_1 - x_2} \\frac{x_2 - x_3}{x_1 - x_3} = 0 \\\\\n",
    "\\phi_1(x_3) &= \\frac{x_3 - x_2}{x_1 - x_2} \\frac{x_3 - x_3}{x_1 - x_3} = 0.\n",
    "\\end{align}"
   ]
  },
  {
   "cell_type": "markdown",
   "metadata": {},
   "source": [
    "Faça o mesmo para $k=2$ e $k=3$, para certificar-se.\n",
    "\n",
    "De forma resumida, dizemos que $\\phi_k(x_m) = \\delta_{km}$, onde o símbolo $\\delta_{km}$ é o chamado *delta de Kroneker*, que vale $1$ quando $k=m$ e zero caso contrário."
   ]
  },
  {
   "cell_type": "markdown",
   "metadata": {},
   "source": [
    "Considere agora a função\n",
    "\n",
    "$$\n",
    "\\Phi(x) = \\sum_{k=1}^N f(x_k)\\,\\phi_k(x).\n",
    "$$"
   ]
  },
  {
   "cell_type": "markdown",
   "metadata": {},
   "source": [
    "Lembre que $\\phi_k(x)$ são polinômios de grau $(N-1)$, e $f(x_k)$ são números. Logo $\\Phi(x)$ é uma combinação linear de polinômios de grau $(N-1)$, ou seja, é também um polinômio de mesmo grau. Se calcularmos $\\Phi(x)$ sobre algum ponto de amostragem $x_m$, temos que\n",
    "\n",
    "$$\n",
    "\\Phi(x_m) = \\sum_{k=1}^N f(x_k)\\,\\phi_k(x_m) = \\sum_{k=1}^N f(x_k)\\,\\delta_{km}.\n",
    "$$"
   ]
  },
  {
   "cell_type": "markdown",
   "metadata": {},
   "source": [
    "Como $\\delta_{km}$ só é diferente de zero quando $k=m$, a somatória desaparece, sobrando apenas o termo em que $k=m$. Isto é,\n",
    "\n",
    "$$\n",
    "\\Phi(x_m) = \\sum_{k=1}^N f(x_k)\\,\\delta_{km} = f(x_m).\n",
    "$$"
   ]
  },
  {
   "cell_type": "markdown",
   "metadata": {},
   "source": [
    "Quer dizer, $\\Phi(x)$ é um polinômio de grau $(N-1)$ que passa sobre todos os pontos $f(x_m)$. Ou seja, é o polinômio que *melhor descreve* $f(x)$ dada a amostragem $x_k$. É exatamente a função que precisamos para obter a nossa regra de integração. Se temos dois pontos, podemos calcular a reta que passa sobre eles. Se temos três pontos, a parábola. Com $N$ pontos, podemos calcular, em princípio, os coeficientes de um polinômio de grau $(N-1)$ que passa sobre eles."
   ]
  },
  {
   "cell_type": "markdown",
   "metadata": {},
   "source": [
    "Vamos calcular então um valor aproximado da nossa integral usando a aproximação dada por $\\Phi(x)$.\n",
    "\n",
    "$$\n",
    "\\int_a^b f(x)\\ \\mathrm{d}x \\cong \\int_a^b \\Phi(x)\\ \\mathrm{d}x = \\int_a^b \\sum_{k=1}^N f(x_k)\\,\\phi_k(x)\\ \\mathrm{d}x \n",
    "$$"
   ]
  },
  {
   "cell_type": "markdown",
   "metadata": {},
   "source": [
    "Como $f(x_k)$ é constante, este valor pode sair da integral. Também, a integral de uma soma é a soma das integrais, logo,\n",
    "\n",
    "$$\n",
    "\\int_a^b f(x)\\ \\mathrm{d}x \\cong \\sum_{k=1}^N f(x_k) \\int_a^b \\phi_k(x)\\ \\mathrm{d}x \n",
    "$$"
   ]
  },
  {
   "cell_type": "markdown",
   "metadata": {},
   "source": [
    "Comparando esta equação com a que aparece no começo do texto,\n",
    "\n",
    "$$\n",
    "\\int_a^b f(x)\\ \\mathrm{d}x \\cong \\sum_{i=1}^{N} w_k f(x_k),\n",
    "$$\n",
    "\n",
    "encontramos os pesos $w_k$ necessários à nossa regra de integração:\n",
    "\n",
    "$$\n",
    "w_k = \\int_a^b \\phi_k(x)\\ \\mathrm{d}x.\n",
    "$$"
   ]
  },
  {
   "cell_type": "markdown",
   "metadata": {},
   "source": [
    "Grande coisa! Para calcular uma integral, agora precisamos calcular $N$ integrais! O pior, não existe uma forma fechada para a integral de $\\phi_k(x)$. De qualquer modo, se fizermos um esforço hercúleo (usando Simpson, por exemplo), só precisamos calcular $w_k$ uma vez para uma dada amostragem (lembre que na definição de $\\phi_k(x)$ entram apenas os $x_k$, ela é independente da função), e depois guardar numa tabela. De posse destes valores, podemos calcular a integral de qualquer função neste intervalo, com esta amostragem."
   ]
  },
  {
   "cell_type": "markdown",
   "metadata": {},
   "source": [
    "Na verdade, fazendo substituição de variáveis, podemos calcular um conjunto $\\tilde{w}_k$ num intervalo de integração padrão $u = -1$ até $1$, com $N$ amostragens em $u_k$, e depois *reparametrizar* todas as variáveis para um intervalo de integração de $a$ até $b$. Isto é, calcular\n",
    "\n",
    "$$\n",
    "\\int_{-1}^1 f(u)\\ \\mathrm{d}u \\cong \\sum_{i=1}^{N} \\tilde{w}_k f(u_k) \\\\\n",
    "\\tilde{w}_k = \\int_{-1}^1 \\phi_k(u)\\ \\mathrm{d}u .\n",
    "$$"
   ]
  },
  {
   "cell_type": "markdown",
   "metadata": {},
   "source": [
    "É fácil encontrar a relação entre variáveis em $x$ e $u$. Sabemos que quando $x=a$, $u=-1$, e quando $x=b$, $u=1$. Usando uma lei linear, tal que $x(u) = \\alpha u + \\beta$, temos\n",
    "\n",
    "\\begin{align}\n",
    "x(-1) &= a = -\\alpha + \\beta \\\\\n",
    "x(1) &= b = \\alpha + \\beta \\\\\n",
    "\\implies \\alpha &= \\frac{b - a}{2} \\\\\n",
    "\\beta &= \\frac{b + a}{2}.\n",
    "\\end{align}"
   ]
  },
  {
   "cell_type": "markdown",
   "metadata": {},
   "source": [
    "Assim,\n",
    "\n",
    "\\begin{align}\n",
    "x(u) &= \\frac{b - a}{2} u + \\frac{b + a}{2} \\\\\n",
    "\\mathrm{d}x &= \\alpha\\,\\mathrm{d}u = \\frac{b - a}{2} \\mathrm{d}u .\n",
    "\\end{align}"
   ]
  },
  {
   "cell_type": "markdown",
   "metadata": {},
   "source": [
    "Substituindo na integral original, temos\n",
    "\n",
    "\\begin{align}\n",
    "\\int_a^b f(x)\\ \\mathrm{d}x &= \\int_{-1}^1 f\\!\\left( x(u) \\right) \\frac{b - a}{2} \\mathrm{d}u \\\\\n",
    "&= \\frac{b - a}{2}  \\int_{-1}^1 f\\!\\left( x(u) \\right) \\mathrm{d}u\\\\\n",
    "&\\cong \\frac{b - a}{2} \\sum_{k=1}^N \\tilde{w}_k\\ f\\!\\left(\\frac{b - a}{2} u_k + \\frac{b + a}{2} \\right) \\\\\n",
    "&\\cong \\sum_{k=1}^N w_k\\ f\\!\\left(x_k \\right).\n",
    "\\end{align}"
   ]
  },
  {
   "cell_type": "markdown",
   "metadata": {},
   "source": [
    "Recapitulando, para calcular a aproximação de uma integral em um intervalo qualquer, precisamos calcular $x_k$ e $w_k$. Suponha que temos pré-calculados os pontos de amostragem $u_k$ entre $-1$ e $1$, e os pesos $\\tilde{w}_k$. Neste caso, os pontos de amostragem são obtidos através da transformação\n",
    "\n",
    "\\begin{align}\n",
    "w_k &= \\frac{b - a}{2} \\tilde{w}_k \\\\\n",
    "x_k &= \\frac{b - a}{2} u_k + \\frac{b + a}{2}.\n",
    "\\end{align}"
   ]
  },
  {
   "cell_type": "markdown",
   "metadata": {},
   "source": [
    "Com isso, podemos finalmente aplicar a nossa regra  de integração. Basta apenas, então, obter esta famigerada tabela de $u_k$ e $\\tilde{w}_k$. Veremos agora como fazer isso de uma forma engenhosa."
   ]
  },
  {
   "cell_type": "markdown",
   "metadata": {},
   "source": [
    "### Pontos de amostragem para a quadratura gaussiana\n",
    "\n",
    "Já resolvemos metade do problema. Se tivermos um conjunto de pontos $x_k$, podemos produzir os pesos $w_k$. Como discutimos no começo do texto, em tese se podemos variar arbitrariamente $x_k$, obtendo $f(x_k)$, temos $2N$ valores, ou *graus de liberdade*. Assim, no melhor dos casos, nossa regra pode ser exata para qualquer integrando polinomial de grau $(2N-1)$. Infelizmente provar esta afirmação, e encontrar os pontos, é uma tarefa bastante envolvida. Vamos pular direto para os resultados. Para os que quiserem se aventurar, veja o livro [Introduction to Numerical Analysis](https://archive.org/details/introduction_to_numerical_analysis_hildebrand), de F. B. Hildebrand."
   ]
  },
  {
   "cell_type": "markdown",
   "metadata": {},
   "source": [
    "Indo direto ao ponto, os pontos $x_k$ devem coincidir com os zeros do $N$-ésimo polinômio de Legendre $P_N(x)$, e os pesos $w_k$ correspondentes dados por\n",
    "\n",
    "$$\n",
    "w_k = \\left[ \\frac{2}{1 - x^2} \\left(\\frac{\\mathrm{d}P_N}{\\mathrm{d}x} \\right)^{-2} \\right]_{x=x_k}.\n",
    "$$"
   ]
  },
  {
   "cell_type": "markdown",
   "metadata": {},
   "source": [
    "### Exercício\n",
    "\n",
    "Vamos calcular pela última vez o valor da nossa conhecida função\n",
    "\n",
    "$$\n",
    "I = \\int_{0.1}^{1.0} \\frac{\\mathrm{d}x}{x} = \\ln(x) \\big|_{0.1}^{1.0} = - \\ln(0.1) = \\ln(10).\n",
    "$$"
   ]
  },
  {
   "cell_type": "markdown",
   "metadata": {},
   "source": [
    "**a.** Para $N = 7$, os pontos de amostragem são as raízes do polinômio de Legendre de grau $7$, isto é,\n",
    "\n",
    "$$\n",
    "P_7(u) = \\frac{1}{16} \\left( 429 u^7 - 693 u^5 + 315 u^3 - 35 u \\right).\n",
    "$$"
   ]
  },
  {
   "cell_type": "markdown",
   "metadata": {},
   "source": [
    "Encontre as raízes desse polinômio, que são os pontos de amostragem $u_k$. Para simplificar, use 10 iterações do método de Newton. Deixe o resultado num array de 7 elementos.\n",
    "\n",
    "*Dica: tente automatizar a busca, supondo que as raízes estão, de forma aproximada, igualmente espaçadas no intervalo $-1 \\leq u \\leq 1$.*"
   ]
  },
  {
   "cell_type": "code",
   "execution_count": 7,
   "metadata": {},
   "outputs": [],
   "source": [
    "import numpy as np"
   ]
  },
  {
   "cell_type": "code",
   "execution_count": 8,
   "metadata": {},
   "outputs": [],
   "source": [
    "def PN(u):\n",
    "    return (1/16)*(429*u**7 - 693*u**5 + 315*u**3 - 35*u)\n",
    "\n",
    "def dPN_dx(u):\n",
    "    return (1/16)*(429*7*u**6 - 693*5*u**4 + 315*3*u**2 - 35)\n",
    "\n",
    "N = 7\n",
    "raizes = np.zeros(N)\n",
    "\n",
    "u = np.linspace(-1,1,N)\n",
    "\n",
    "for i in range(len(u)):\n",
    "    \n",
    "    u1 = u[i]\n",
    "    \n",
    "    for j in range(10):\n",
    "        \n",
    "        u2 = u1 - (PN(u1)/dPN_dx(u1))\n",
    "        u1 = u2\n",
    "        \n",
    "        raizes[i] = u1"
   ]
  },
  {
   "cell_type": "code",
   "execution_count": 9,
   "metadata": {},
   "outputs": [
    {
     "data": {
      "text/plain": [
       "array([-0.94910791, -0.74153119, -0.40584515,  0.        ,  0.40584515,\n",
       "        0.74153119,  0.94910791])"
      ]
     },
     "execution_count": 9,
     "metadata": {},
     "output_type": "execute_result"
    }
   ],
   "source": [
    "raizes"
   ]
  },
  {
   "cell_type": "code",
   "execution_count": 10,
   "metadata": {},
   "outputs": [
    {
     "data": {
      "text/plain": [
       "<matplotlib.lines.Line2D at 0x1aae007d6f0>"
      ]
     },
     "execution_count": 10,
     "metadata": {},
     "output_type": "execute_result"
    },
    {
     "data": {
      "image/png": "[encoded data removed]",
      "text/plain": [
       "<Figure size 900x500 with 1 Axes>"
      ]
     },
     "metadata": {},
     "output_type": "display_data"
    }
   ],
   "source": [
    "fig, ax = plt.subplots(1,1,figsize = (9,5))\n",
    "\n",
    "x = np.arange(-1,1,0.001)\n",
    "\n",
    "ax.plot(x,PN(x), color = \"purple\")\n",
    "ax.axhline(0,0, color = \"green\",ls = \"--\")"
   ]
  },
  {
   "cell_type": "markdown",
   "metadata": {},
   "source": [
    "**b.** Calcule os pesos $\\tilde{w}_k$."
   ]
  },
  {
   "cell_type": "code",
   "execution_count": 11,
   "metadata": {},
   "outputs": [
    {
     "name": "stdout",
     "output_type": "stream",
     "text": [
      "[0.12948497 0.27970539 0.38183005 0.41795918 0.38183005 0.27970539\n",
      " 0.12948497]\n"
     ]
    }
   ],
   "source": [
    "def WK_(x):\n",
    "    \n",
    "    return (2/(1 - x**2)) * (dPN_dx(x))**(-2)\n",
    "\n",
    "pesos = np.zeros(len(raizes))\n",
    "\n",
    "for i in range(len(raizes)):\n",
    "    pesos[i] = WK_(raizes[i])\n",
    "    \n",
    "print(pesos)"
   ]
  },
  {
   "cell_type": "markdown",
   "metadata": {},
   "source": [
    "**c.** Transforme os pontos de amostragem e os pesos para o intervalo de integração do nosso problema. Use aritmética de arrays se possível."
   ]
  },
  {
   "cell_type": "code",
   "execution_count": 12,
   "metadata": {},
   "outputs": [
    {
     "name": "stdout",
     "output_type": "stream",
     "text": [
      "[0.12290144 0.21631097 0.36736968 0.55       0.73263032 0.88368903\n",
      " 0.97709856] [0.05826823 0.12586743 0.17182352 0.18808163 0.17182352 0.12586743\n",
      " 0.05826823]\n"
     ]
    }
   ],
   "source": [
    "a = 0.1\n",
    "b = 1.0\n",
    "\n",
    "wk = ((b-a)/2) * pesos\n",
    "\n",
    "xk_array= np.zeros(N)\n",
    "\n",
    "for i in range(N):\n",
    "    xk_array[i] = ((b-a)/2) * raizes[i] + ((b+a)/2)\n",
    "    \n",
    "print(xk_array, wk)"
   ]
  },
  {
   "cell_type": "markdown",
   "metadata": {},
   "source": [
    "**d.** Calcule a aproximação da integral e compare com o valor analítico."
   ]
  },
  {
   "cell_type": "code",
   "execution_count": 13,
   "metadata": {},
   "outputs": [
    {
     "name": "stdout",
     "output_type": "stream",
     "text": [
      "2.3022643482897203 2.302585092994046\n"
     ]
    }
   ],
   "source": [
    "def f(x):\n",
    "    return 1/x\n",
    "\n",
    "soma = 0\n",
    "for i in range(N):\n",
    "    soma += wk[i] * f(xk_array[i])\n",
    "    \n",
    "print(soma, np.log(10))"
   ]
  },
  {
   "cell_type": "markdown",
   "metadata": {},
   "source": [
    "Encontrar as raízes de um polinômio de Legendre arbitrário é uma tarefa um pouco complicada. Vamos usar a função `roots_legendre()` do pacote `scipy`. Esta função retorna $u_k$ e $\\tilde{w}_k$, ou seja, precisamos reparametrizar os resultados antes de aplicar a regra de integração. Veja no exemplo abaixo as posições e pesos para $N = 7$."
   ]
  },
  {
   "cell_type": "code",
   "execution_count": 14,
   "metadata": {},
   "outputs": [
    {
     "name": "stdout",
     "output_type": "stream",
     "text": [
      "u_1 = -0.949, ~w_1 = 0.129\n",
      "u_2 = -0.742, ~w_2 = 0.280\n",
      "u_3 = -0.406, ~w_3 = 0.382\n",
      "u_4 = 0.000, ~w_4 = 0.418\n",
      "u_5 = 0.406, ~w_5 = 0.382\n",
      "u_6 = 0.742, ~w_6 = 0.280\n",
      "u_7 = 0.949, ~w_7 = 0.129\n"
     ]
    }
   ],
   "source": [
    "from scipy.special import roots_legendre\n",
    "N = 7\n",
    "uk, _wk = roots_legendre(n=N)\n",
    "\n",
    "for i in range(1, N + 1):\n",
    "    print(f'u_{i} = {uk[i - 1]:.3f}, ~w_{i} = {_wk[i - 1]:.3f}')"
   ]
  },
  {
   "cell_type": "markdown",
   "metadata": {},
   "source": [
    "Abaixo, fazemos o gráfico dos pesos para $N = 10$ e $N=30$. Note que os pontos ficam mais aglomerados nas bordas do intervalo, e os pesos diminuem."
   ]
  },
  {
   "cell_type": "code",
   "execution_count": 15,
   "metadata": {},
   "outputs": [
    {
     "data": {
      "image/png": "[encoded data removed]",
      "text/plain": [
       "<Figure size 1100x300 with 2 Axes>"
      ]
     },
     "metadata": {},
     "output_type": "display_data"
    }
   ],
   "source": [
    "import matplotlib.pyplot as plt\n",
    "plt.style.use('ggplot')\n",
    "plt.rcParams['font.family'] = 'serif'\n",
    "plt.rcParams['mathtext.fontset'] = 'stix'\n",
    "\n",
    "fig, (ax1, ax2) = plt.subplots(ncols=2, figsize=(11, 3))\n",
    "\n",
    "uk, wk = roots_legendre(n=7)\n",
    "s = ax1.stem(uk, wk, linefmt='k-', markerfmt=' ', basefmt=' ')#, use_line_collection=True)\n",
    "plt.setp(s.stemlines, 'linewidth', 1)\n",
    "ax1.set_title('N = 7')\n",
    "ax1.set_xlabel(r'$u_k$')\n",
    "ax1.set_ylabel(r'$\\tilde{w}x_k$')\n",
    "ax1.set_ylim(0, None)\n",
    "\n",
    "uk, wk = roots_legendre(n=30)\n",
    "s = ax2.stem(uk, wk, linefmt='k-', markerfmt=' ', basefmt=' ')#, use_line_collection=True)\n",
    "plt.setp(s.stemlines, 'linewidth', 1)\n",
    "ax2.set_title('N = 30')\n",
    "ax2.set_xlabel(r'$u_k$')\n",
    "ax2.set_ylim(0, None)\n",
    "plt.show()"
   ]
  },
  {
   "cell_type": "markdown",
   "metadata": {},
   "source": [
    "**e.** Defina uma função chamada `integral_qgauss()` com a mesma assinatura das funções definidas anteriormente. Use `roots_legendre(N)` para obter os pontos de amostragem e pesos."
   ]
  },
  {
   "cell_type": "code",
   "execution_count": 16,
   "metadata": {},
   "outputs": [
    {
     "name": "stdout",
     "output_type": "stream",
     "text": [
      "2.302264348289719\n"
     ]
    }
   ],
   "source": [
    "def integral_qgauss(func,a,b,N):\n",
    "    \n",
    "    uu,ww_ = roots_legendre(n = N)\n",
    "    \n",
    "    alpha = 0.5 * (b-a)\n",
    "    beta = 0.5 * (b+a)\n",
    "    ww = alpha * ww_\n",
    "    xx = alpha * uu + beta\n",
    "    \n",
    "    return np.sum(ww * func(xx))\n",
    "\n",
    "print(integral_qgauss(f,a,b,7))"
   ]
  },
  {
   "cell_type": "markdown",
   "metadata": {},
   "source": [
    "**f.** Podemos conferir agora se a quadratura gaussiana é realmente melhor do que os outros métodos. Recorde que a regra de Simpson era a melhor dentre as que já estudamos. Faça o gráfico da convergência da integral, para $N$ entre $4$ e $20$, usando os dois métodos."
   ]
  },
  {
   "cell_type": "code",
   "execution_count": 17,
   "metadata": {},
   "outputs": [],
   "source": [
    "def integral_simpson(func,a,b,N):\n",
    "\n",
    "    h = (b - a)/N\n",
    "    \n",
    "    somaP = 0\n",
    "    somaI = 0\n",
    "\n",
    "    for i in range(1,N,2): # ímpar\n",
    "        somaI += func(a + i*h)\n",
    "    \n",
    "    for i in range(2,N,2): # par\n",
    "        somaP += func(a + i*h)\n",
    "\n",
    "    integral = (func(a) + func(b) + 4*somaI + 2*somaP)*h/3\n",
    "\n",
    "    return integral"
   ]
  },
  {
   "cell_type": "code",
   "execution_count": 19,
   "metadata": {},
   "outputs": [
    {
     "data": {
      "text/plain": [
       "<matplotlib.legend.Legend at 0x1aaff01c730>"
      ]
     },
     "execution_count": 19,
     "metadata": {},
     "output_type": "execute_result"
    },
    {
     "data": {
      "image/png": "[encoded data removed]",
      "text/plain": [
       "<Figure size 640x480 with 1 Axes>"
      ]
     },
     "metadata": {},
     "output_type": "display_data"
    }
   ],
   "source": [
    "NN = np.arange(4,21,2)\n",
    "M = len(NN)\n",
    "\n",
    "valores_int_gauss = np.zeros(M)\n",
    "valores_int_simp = np.zeros(M)\n",
    "\n",
    "for i in range(M):\n",
    "    valores_int_gauss[i] = integral_qgauss(f,a,b,NN[i])\n",
    "    valores_int_simp[i] = integral_simpson(f,a,b,NN[i])\n",
    "    \n",
    "fig, ax = plt.subplots(1,1)\n",
    "\n",
    "ax.plot(NN,valores_int_gauss, label = \"integral-gauss\")\n",
    "ax.plot(NN,valores_int_simp, label = \"integral-simpson\")\n",
    "ax.legend()"
   ]
  },
  {
   "cell_type": "markdown",
   "metadata": {},
   "source": [
    "A convergência da quadratura gaussiana é muito mais rápida. Em geral, $N = 10$ é uma boa escolha. Dificilmente precisamos de $N$ muito grande, veja que, neste exemplo, o resultado quase não muda com $N > 10$."
   ]
  },
  {
   "cell_type": "markdown",
   "metadata": {},
   "source": [
    "## Conclusão\n",
    "\n",
    "A função que programamos para calcular a quadratura gaussiana é muito simples, mais até que a regra de Simpson. Mas não se engane, a maior parte da complexidade está na determinação dos pesos e das posições de amostragem. O livro do Mark Newman tem a implementação de um código para calcular estes valores. Os mais ousados podem conferir como isso pode ser feito no módulo [gaussxw.py](http://www-personal.umich.edu/~mejn/cp/programs/gaussxw.py). A versão que usamos, `roots_legendre()` do pacote `scipy` é muito mais rápida e precisa, e é de fato a forma recomendada.\n",
    "\n",
    "Para mais detalhes sobre integração numérica, leia o [capítulo 5 do livro do Mark Newman](http://www-personal.umich.edu/~mejn/cp/chapters/int.pdf)."
   ]
  }
 ],
 "metadata": {
  "kernelspec": {
   "display_name": "Python 3 (ipykernel)",
   "language": "python",
   "name": "python3"
  },
  "language_info": {
   "codemirror_mode": {
    "name": "ipython",
    "version": 3
   },
   "file_extension": ".py",
   "mimetype": "text/x-python",
   "name": "python",
   "nbconvert_exporter": "python",
   "pygments_lexer": "ipython3",
   "version": "3.10.7"
  }
 },
 "nbformat": 4,
 "nbformat_minor": 4
}
